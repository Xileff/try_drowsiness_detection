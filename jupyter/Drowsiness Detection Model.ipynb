{
 "cells": [
  {
   "cell_type": "markdown",
   "id": "49da7646",
   "metadata": {},
   "source": [
    "# Modules"
   ]
  },
  {
   "cell_type": "code",
   "execution_count": 19,
   "id": "05e239be",
   "metadata": {},
   "outputs": [],
   "source": [
    "import tensorflow as tf\n",
    "import scipy\n",
    "from tensorflow.python.client import device_lib\n",
    "from tensorflow.keras.applications import InceptionV3, ResNet152V2, VGG19\n",
    "from keras.models import Sequential\n",
    "from tensorflow.keras.models import Model\n",
    "from tensorflow.keras.layers import Dropout, Input, Flatten, Dense, MaxPooling2D, BatchNormalization,AveragePooling2D, TimeDistributed, LSTM\n",
    "from tensorflow.keras.preprocessing.image import ImageDataGenerator"
   ]
  },
  {
   "cell_type": "code",
   "execution_count": 2,
   "id": "4d59d6ed",
   "metadata": {},
   "outputs": [
    {
     "name": "stdout",
     "output_type": "stream",
     "text": [
      "2.10.1\n"
     ]
    }
   ],
   "source": [
    "import tensorflow as tf\n",
    "print(tf.__version__)"
   ]
  },
  {
   "cell_type": "code",
   "execution_count": 3,
   "id": "0aa5403d",
   "metadata": {},
   "outputs": [
    {
     "data": {
      "text/plain": [
       "[PhysicalDevice(name='/physical_device:GPU:0', device_type='GPU')]"
      ]
     },
     "execution_count": 3,
     "metadata": {},
     "output_type": "execute_result"
    }
   ],
   "source": [
    "tf.config.list_physical_devices('GPU')"
   ]
  },
  {
   "cell_type": "code",
   "execution_count": 4,
   "id": "d74f354e",
   "metadata": {},
   "outputs": [
    {
     "data": {
      "text/plain": [
       "[name: \"/device:CPU:0\"\n",
       " device_type: \"CPU\"\n",
       " memory_limit: 268435456\n",
       " locality {\n",
       " }\n",
       " incarnation: 4927548939509417643\n",
       " xla_global_id: -1,\n",
       " name: \"/device:GPU:0\"\n",
       " device_type: \"GPU\"\n",
       " memory_limit: 2240439911\n",
       " locality {\n",
       "   bus_id: 1\n",
       "   links {\n",
       "   }\n",
       " }\n",
       " incarnation: 4895957197095910743\n",
       " physical_device_desc: \"device: 0, name: NVIDIA GeForce GTX 1650, pci bus id: 0000:07:00.0, compute capability: 7.5\"\n",
       " xla_global_id: 416903419]"
      ]
     },
     "execution_count": 4,
     "metadata": {},
     "output_type": "execute_result"
    }
   ],
   "source": [
    "device_lib.list_local_devices()"
   ]
  },
  {
   "cell_type": "markdown",
   "id": "ea456bd9",
   "metadata": {},
   "source": [
    "# Dataset preparation"
   ]
  },
  {
   "cell_type": "code",
   "execution_count": 5,
   "id": "4637c646",
   "metadata": {},
   "outputs": [],
   "source": [
    "batchsize = 8"
   ]
  },
  {
   "cell_type": "code",
   "execution_count": 6,
   "id": "a0236a2e",
   "metadata": {},
   "outputs": [
    {
     "name": "stdout",
     "output_type": "stream",
     "text": [
      "Found 64719 images belonging to 2 classes.\n",
      "Found 16179 images belonging to 2 classes.\n"
     ]
    }
   ],
   "source": [
    "# Training dataset\n",
    "\n",
    "train_data_gen = ImageDataGenerator(rotation_range=0.2, \n",
    "                                        shear_range=0.2,\n",
    "                                        zoom_range=0.2, \n",
    "                                        width_shift_range=0.2,\n",
    "                                        height_shift_range=0.2, \n",
    "                                        rescale=1./255,\n",
    "                                        validation_split=0.2)\n",
    "\n",
    "train_data = train_data_gen.flow_from_directory('dataset/train', \n",
    "                                                    target_size=(80, 80), \n",
    "                                                    batch_size=batchsize, \n",
    "                                                    class_mode='categorical',\n",
    "                                                    subset='training'\n",
    "                                                    )\n",
    "\n",
    "validation_data = train_data_gen.flow_from_directory('dataset/train', \n",
    "                                                    target_size=(80, 80), \n",
    "                                                    batch_size=batchsize, \n",
    "                                                    class_mode='categorical',\n",
    "                                                    subset='validation'\n",
    "                                                    )"
   ]
  },
  {
   "cell_type": "code",
   "execution_count": 8,
   "id": "78402527",
   "metadata": {},
   "outputs": [
    {
     "name": "stdout",
     "output_type": "stream",
     "text": [
      "Found 4000 images belonging to 2 classes.\n"
     ]
    }
   ],
   "source": [
    "# Testing dataset\n",
    "\n",
    "test_data_gen = ImageDataGenerator(rescale=1./255)\n",
    "test_data = test_data_gen.flow_from_directory('dataset/test', \n",
    "                                                    target_size=(80, 80), \n",
    "                                                    batch_size=batchsize, \n",
    "                                                    class_mode='categorical'\n",
    "                                                    )"
   ]
  },
  {
   "cell_type": "markdown",
   "id": "fa5cc455",
   "metadata": {},
   "source": [
    "# Model preparation"
   ]
  },
  {
   "cell_type": "code",
   "execution_count": 9,
   "id": "04e2cd31",
   "metadata": {},
   "outputs": [],
   "source": [
    "from tensorflow.keras.callbacks import ModelCheckpoint, EarlyStopping, ReduceLROnPlateau"
   ]
  },
  {
   "cell_type": "code",
   "execution_count": 69,
   "id": "6f4e00f9",
   "metadata": {},
   "outputs": [
    {
     "name": "stdout",
     "output_type": "stream",
     "text": [
      "done\n"
     ]
    }
   ],
   "source": [
    "# Base Model : InceptionV3\n",
    "\n",
    "# Get knowledge from InceptionV3 pretrained model, so we don't need to train the model from scratch\n",
    "bmodel = InceptionV3(include_top=False, weights='imagenet', input_tensor=Input(shape=(80, 80, 3)))\n",
    "hmodel = bmodel.output\n",
    "hmodel = Flatten()(hmodel)\n",
    "\n",
    "# The only layers we need to train\n",
    "# This is the layers' illustration https://www.google.com/url?sa=i&url=https%3A%2F%2Ftowardsdatascience.com%2Fthe-most-intuitive-and-easiest-guide-for-convolutional-neural-network-3607be47480&psig=AOvVaw0CYHQ2oruhWMmKK2Lxm5cN&ust=1668996857968000&source=images&cd=vfe&ved=0CBAQjRxqFwoTCLDJs9TYu_sCFQAAAAAdAAAAABAU\n",
    "hmodel = Dense(64, activation='relu')(hmodel)\n",
    "hmodel = Dropout(0.5)(hmodel)\n",
    "hmodel = Dense(64, activation = \"relu\")(hmodel)\n",
    "hmodel = Dropout(0.5)(hmodel)\n",
    "hmodel = Dense(64, activation = \"relu\")(hmodel)\n",
    "hmodel = Dropout(0.5)(hmodel)\n",
    "hmodel = Dense(64, activation = \"relu\")(hmodel)\n",
    "hmodel = Dropout(0.5)(hmodel)\n",
    "hmodel = Dense(64, activation = \"relu\")(hmodel)\n",
    "hmodel = Dropout(0.5)(hmodel)\n",
    "hmodel = Dense(64, activation = \"relu\")(hmodel)\n",
    "hmodel = Dropout(0.5)(hmodel)\n",
    "hmodel = Dense(64, activation = \"relu\")(hmodel)\n",
    "hmodel = Dropout(0.5)(hmodel)\n",
    "hmodel = Dense(64, activation = \"relu\")(hmodel)\n",
    "hmodel = Dropout(0.5)(hmodel)\n",
    "hmodel = Dense(64, activation = \"relu\")(hmodel)\n",
    "hmodel = Dropout(0.5)(hmodel)\n",
    "hmodel = Dense(64, activation = \"relu\")(hmodel)\n",
    "hmodel = Dropout(0.5)(hmodel)\n",
    "hmodel = Dense(64, activation = \"relu\")(hmodel)\n",
    "hmodel = Dropout(0.5)(hmodel)\n",
    "hmodel = Dense(2, activation='softmax')(hmodel)\n",
    "\n",
    "model = Model(inputs=bmodel.input, outputs=hmodel)\n",
    "\n",
    "for layer in bmodel.layers:\n",
    "    layer.trainable = False\n",
    "\n",
    "checkpoint = ModelCheckpoint('models/InceptionV3', \n",
    "                             monitor='val_loss', \n",
    "                             save_best_only=True, \n",
    "                             verbose=3)\n",
    "    \n",
    "print('done')"
   ]
  },
  {
   "cell_type": "code",
   "execution_count": 241,
   "id": "37e00f52",
   "metadata": {},
   "outputs": [
    {
     "name": "stdout",
     "output_type": "stream",
     "text": [
      "done\n"
     ]
    }
   ],
   "source": [
    "# Base Model : ResNet152V2\n",
    "\n",
    "# # Get knowledge from ResNet152V2 pretrained model, so we don't need to train the model from scratch\n",
    "# bmodel = ResNet152V2(include_top=False, weights='imagenet', input_tensor=Input(shape=(80, 80, 3)))\n",
    "# hmodel = bmodel.output\n",
    "# hmodel = AveragePooling2D(pool_size = (3,3))(hmodel)\n",
    "# hmodel = Flatten(name= 'flatten')(hmodel)\n",
    "\n",
    "# # The only layers we need to train\n",
    "# # This is the layers' illustration https://www.google.com/url?sa=i&url=https%3A%2F%2Ftowardsdatascience.com%2Fthe-most-intuitive-and-easiest-guide-for-convolutional-neural-network-3607be47480&psig=AOvVaw0CYHQ2oruhWMmKK2Lxm5cN&ust=1668996857968000&source=images&cd=vfe&ved=0CBAQjRxqFwoTCLDJs9TYu_sCFQAAAAAdAAAAABAU\n",
    "\n",
    "# hmodel = Dense(256, activation = \"relu\")(hmodel)\n",
    "# hmodel = Dropout(0.25)(hmodel)\n",
    "# hmodel = Dense(256, activation = \"relu\")(hmodel)\n",
    "# hmodel = Dropout(0.25)(hmodel)\n",
    "# hmodel = Dense(256, activation = \"relu\")(hmodel)\n",
    "# hmodel = Dropout(0.25)(hmodel)\n",
    "# hmodel = Dense(2, activation='softmax')(hmodel)\n",
    "\n",
    "# model = Model(inputs=bmodel.input, outputs=hmodel)\n",
    "\n",
    "\n",
    "# for layer in bmodel.layers:\n",
    "#     layer.trainable = False\n",
    "\n",
    "# checkpoint = ModelCheckpoint('models/ResNet152V2', \n",
    "#                              monitor='val_loss', \n",
    "#                              save_best_only=True, \n",
    "#                              verbose=3)\n",
    "\n",
    "# print('done')"
   ]
  },
  {
   "cell_type": "code",
   "execution_count": 48,
   "id": "a1120b78",
   "metadata": {},
   "outputs": [
    {
     "name": "stdout",
     "output_type": "stream",
     "text": [
      "done\n"
     ]
    }
   ],
   "source": [
    "# Base Model : CNN LSTM\n",
    "# Did some modifications according to https://www.tensorflow.org/versions/r2.2/api_docs/python/tf/keras/layers/LSTM\n",
    "\n",
    "bmodelVGG = VGG19(include_top=False, weights='imagenet', input_tensor=Input(shape=(80, 80, 3)))\n",
    "hmodel1 = Sequential()\n",
    "hmodel1 = bmodelVGG.output\n",
    "hmodel1 = AveragePooling2D(pool_size =(3,3), padding='same')(hmodel1)\n",
    "hmodel1 = TimeDistributed(Flatten())(hmodel1)\n",
    "\n",
    "#Train this layer \n",
    "hmodel1 = LSTM(64, dropout=0.5,  recurrent_dropout=0, unroll=False, activation='tanh')(hmodel1)\n",
    "hmodel1 = BatchNormalization()(hmodel1)\n",
    "hmodel1 = Dropout(0.25)(hmodel1)\n",
    "hmodel1 = Dense(32, activation = \"relu\", input_shape=())(hmodel1)\n",
    "hmodel1 = Dropout(0.25)(hmodel1)\n",
    "hmodel1 = Dense(16, activation = \"relu\")(hmodel1)\n",
    "hmodel1 = Dropout(0.25)(hmodel1)\n",
    "hmodel1 = Dense(8, activation = \"relu\")(hmodel1)\n",
    "hmodel1 = Dropout(0.25)(hmodel1)\n",
    "hmodel1 = Dense(1, activation='sigmoid')(hmodel1)\n",
    "model = Model(inputs=bmodelVGG.input, outputs=hmodel1)\n",
    "\n",
    "for layer in bmodelVGG.layers:\n",
    "    layer.trainable = False\n",
    "\n",
    "checkpoint = ModelCheckpoint('models/CNN_LSTM', \n",
    "                             monitor='val_loss', \n",
    "                             save_best_only=True, \n",
    "                             verbose=3)\n",
    "\n",
    "print('done')"
   ]
  },
  {
   "cell_type": "code",
   "execution_count": 62,
   "id": "4ab7efb0",
   "metadata": {
    "scrolled": true
   },
   "outputs": [
    {
     "name": "stdout",
     "output_type": "stream",
     "text": [
      "Model: \"model_15\"\n",
      "__________________________________________________________________________________________________\n",
      " Layer (type)                   Output Shape         Param #     Connected to                     \n",
      "==================================================================================================\n",
      " input_23 (InputLayer)          [(None, 80, 80, 3)]  0           []                               \n",
      "                                                                                                  \n",
      " conv2d_282 (Conv2D)            (None, 39, 39, 32)   864         ['input_23[0][0]']               \n",
      "                                                                                                  \n",
      " batch_normalization_294 (Batch  (None, 39, 39, 32)  96          ['conv2d_282[0][0]']             \n",
      " Normalization)                                                                                   \n",
      "                                                                                                  \n",
      " activation_282 (Activation)    (None, 39, 39, 32)   0           ['batch_normalization_294[0][0]']\n",
      "                                                                                                  \n",
      " conv2d_283 (Conv2D)            (None, 37, 37, 32)   9216        ['activation_282[0][0]']         \n",
      "                                                                                                  \n",
      " batch_normalization_295 (Batch  (None, 37, 37, 32)  96          ['conv2d_283[0][0]']             \n",
      " Normalization)                                                                                   \n",
      "                                                                                                  \n",
      " activation_283 (Activation)    (None, 37, 37, 32)   0           ['batch_normalization_295[0][0]']\n",
      "                                                                                                  \n",
      " conv2d_284 (Conv2D)            (None, 37, 37, 64)   18432       ['activation_283[0][0]']         \n",
      "                                                                                                  \n",
      " batch_normalization_296 (Batch  (None, 37, 37, 64)  192         ['conv2d_284[0][0]']             \n",
      " Normalization)                                                                                   \n",
      "                                                                                                  \n",
      " activation_284 (Activation)    (None, 37, 37, 64)   0           ['batch_normalization_296[0][0]']\n",
      "                                                                                                  \n",
      " max_pooling2d_12 (MaxPooling2D  (None, 18, 18, 64)  0           ['activation_284[0][0]']         \n",
      " )                                                                                                \n",
      "                                                                                                  \n",
      " conv2d_285 (Conv2D)            (None, 18, 18, 80)   5120        ['max_pooling2d_12[0][0]']       \n",
      "                                                                                                  \n",
      " batch_normalization_297 (Batch  (None, 18, 18, 80)  240         ['conv2d_285[0][0]']             \n",
      " Normalization)                                                                                   \n",
      "                                                                                                  \n",
      " activation_285 (Activation)    (None, 18, 18, 80)   0           ['batch_normalization_297[0][0]']\n",
      "                                                                                                  \n",
      " conv2d_286 (Conv2D)            (None, 16, 16, 192)  138240      ['activation_285[0][0]']         \n",
      "                                                                                                  \n",
      " batch_normalization_298 (Batch  (None, 16, 16, 192)  576        ['conv2d_286[0][0]']             \n",
      " Normalization)                                                                                   \n",
      "                                                                                                  \n",
      " activation_286 (Activation)    (None, 16, 16, 192)  0           ['batch_normalization_298[0][0]']\n",
      "                                                                                                  \n",
      " max_pooling2d_13 (MaxPooling2D  (None, 7, 7, 192)   0           ['activation_286[0][0]']         \n",
      " )                                                                                                \n",
      "                                                                                                  \n",
      " conv2d_290 (Conv2D)            (None, 7, 7, 64)     12288       ['max_pooling2d_13[0][0]']       \n",
      "                                                                                                  \n",
      " batch_normalization_302 (Batch  (None, 7, 7, 64)    192         ['conv2d_290[0][0]']             \n",
      " Normalization)                                                                                   \n",
      "                                                                                                  \n",
      " activation_290 (Activation)    (None, 7, 7, 64)     0           ['batch_normalization_302[0][0]']\n",
      "                                                                                                  \n",
      " conv2d_288 (Conv2D)            (None, 7, 7, 48)     9216        ['max_pooling2d_13[0][0]']       \n",
      "                                                                                                  \n",
      " conv2d_291 (Conv2D)            (None, 7, 7, 96)     55296       ['activation_290[0][0]']         \n",
      "                                                                                                  \n",
      " batch_normalization_300 (Batch  (None, 7, 7, 48)    144         ['conv2d_288[0][0]']             \n",
      " Normalization)                                                                                   \n",
      "                                                                                                  \n",
      " batch_normalization_303 (Batch  (None, 7, 7, 96)    288         ['conv2d_291[0][0]']             \n",
      " Normalization)                                                                                   \n",
      "                                                                                                  \n",
      " activation_288 (Activation)    (None, 7, 7, 48)     0           ['batch_normalization_300[0][0]']\n",
      "                                                                                                  \n",
      " activation_291 (Activation)    (None, 7, 7, 96)     0           ['batch_normalization_303[0][0]']\n",
      "                                                                                                  \n",
      " average_pooling2d_46 (AverageP  (None, 7, 7, 192)   0           ['max_pooling2d_13[0][0]']       \n",
      " ooling2D)                                                                                        \n",
      "                                                                                                  \n",
      " conv2d_287 (Conv2D)            (None, 7, 7, 64)     12288       ['max_pooling2d_13[0][0]']       \n",
      "                                                                                                  \n",
      " conv2d_289 (Conv2D)            (None, 7, 7, 64)     76800       ['activation_288[0][0]']         \n",
      "                                                                                                  \n",
      " conv2d_292 (Conv2D)            (None, 7, 7, 96)     82944       ['activation_291[0][0]']         \n",
      "                                                                                                  \n",
      " conv2d_293 (Conv2D)            (None, 7, 7, 32)     6144        ['average_pooling2d_46[0][0]']   \n",
      "                                                                                                  \n",
      " batch_normalization_299 (Batch  (None, 7, 7, 64)    192         ['conv2d_287[0][0]']             \n",
      " Normalization)                                                                                   \n",
      "                                                                                                  \n",
      " batch_normalization_301 (Batch  (None, 7, 7, 64)    192         ['conv2d_289[0][0]']             \n",
      " Normalization)                                                                                   \n"
     ]
    },
    {
     "name": "stdout",
     "output_type": "stream",
     "text": [
      "                                                                                                  \n",
      " batch_normalization_304 (Batch  (None, 7, 7, 96)    288         ['conv2d_292[0][0]']             \n",
      " Normalization)                                                                                   \n",
      "                                                                                                  \n",
      " batch_normalization_305 (Batch  (None, 7, 7, 32)    96          ['conv2d_293[0][0]']             \n",
      " Normalization)                                                                                   \n",
      "                                                                                                  \n",
      " activation_287 (Activation)    (None, 7, 7, 64)     0           ['batch_normalization_299[0][0]']\n",
      "                                                                                                  \n",
      " activation_289 (Activation)    (None, 7, 7, 64)     0           ['batch_normalization_301[0][0]']\n",
      "                                                                                                  \n",
      " activation_292 (Activation)    (None, 7, 7, 96)     0           ['batch_normalization_304[0][0]']\n",
      "                                                                                                  \n",
      " activation_293 (Activation)    (None, 7, 7, 32)     0           ['batch_normalization_305[0][0]']\n",
      "                                                                                                  \n",
      " mixed0 (Concatenate)           (None, 7, 7, 256)    0           ['activation_287[0][0]',         \n",
      "                                                                  'activation_289[0][0]',         \n",
      "                                                                  'activation_292[0][0]',         \n",
      "                                                                  'activation_293[0][0]']         \n",
      "                                                                                                  \n",
      " conv2d_297 (Conv2D)            (None, 7, 7, 64)     16384       ['mixed0[0][0]']                 \n",
      "                                                                                                  \n",
      " batch_normalization_309 (Batch  (None, 7, 7, 64)    192         ['conv2d_297[0][0]']             \n",
      " Normalization)                                                                                   \n",
      "                                                                                                  \n",
      " activation_297 (Activation)    (None, 7, 7, 64)     0           ['batch_normalization_309[0][0]']\n",
      "                                                                                                  \n",
      " conv2d_295 (Conv2D)            (None, 7, 7, 48)     12288       ['mixed0[0][0]']                 \n",
      "                                                                                                  \n",
      " conv2d_298 (Conv2D)            (None, 7, 7, 96)     55296       ['activation_297[0][0]']         \n",
      "                                                                                                  \n",
      " batch_normalization_307 (Batch  (None, 7, 7, 48)    144         ['conv2d_295[0][0]']             \n",
      " Normalization)                                                                                   \n",
      "                                                                                                  \n",
      " batch_normalization_310 (Batch  (None, 7, 7, 96)    288         ['conv2d_298[0][0]']             \n",
      " Normalization)                                                                                   \n",
      "                                                                                                  \n",
      " activation_295 (Activation)    (None, 7, 7, 48)     0           ['batch_normalization_307[0][0]']\n",
      "                                                                                                  \n",
      " activation_298 (Activation)    (None, 7, 7, 96)     0           ['batch_normalization_310[0][0]']\n",
      "                                                                                                  \n",
      " average_pooling2d_47 (AverageP  (None, 7, 7, 256)   0           ['mixed0[0][0]']                 \n",
      " ooling2D)                                                                                        \n",
      "                                                                                                  \n",
      " conv2d_294 (Conv2D)            (None, 7, 7, 64)     16384       ['mixed0[0][0]']                 \n",
      "                                                                                                  \n",
      " conv2d_296 (Conv2D)            (None, 7, 7, 64)     76800       ['activation_295[0][0]']         \n",
      "                                                                                                  \n",
      " conv2d_299 (Conv2D)            (None, 7, 7, 96)     82944       ['activation_298[0][0]']         \n",
      "                                                                                                  \n",
      " conv2d_300 (Conv2D)            (None, 7, 7, 64)     16384       ['average_pooling2d_47[0][0]']   \n",
      "                                                                                                  \n",
      " batch_normalization_306 (Batch  (None, 7, 7, 64)    192         ['conv2d_294[0][0]']             \n",
      " Normalization)                                                                                   \n",
      "                                                                                                  \n",
      " batch_normalization_308 (Batch  (None, 7, 7, 64)    192         ['conv2d_296[0][0]']             \n",
      " Normalization)                                                                                   \n",
      "                                                                                                  \n",
      " batch_normalization_311 (Batch  (None, 7, 7, 96)    288         ['conv2d_299[0][0]']             \n",
      " Normalization)                                                                                   \n",
      "                                                                                                  \n",
      " batch_normalization_312 (Batch  (None, 7, 7, 64)    192         ['conv2d_300[0][0]']             \n",
      " Normalization)                                                                                   \n",
      "                                                                                                  \n",
      " activation_294 (Activation)    (None, 7, 7, 64)     0           ['batch_normalization_306[0][0]']\n",
      "                                                                                                  \n",
      " activation_296 (Activation)    (None, 7, 7, 64)     0           ['batch_normalization_308[0][0]']\n",
      "                                                                                                  \n",
      " activation_299 (Activation)    (None, 7, 7, 96)     0           ['batch_normalization_311[0][0]']\n",
      "                                                                                                  \n",
      " activation_300 (Activation)    (None, 7, 7, 64)     0           ['batch_normalization_312[0][0]']\n",
      "                                                                                                  \n",
      " mixed1 (Concatenate)           (None, 7, 7, 288)    0           ['activation_294[0][0]',         \n",
      "                                                                  'activation_296[0][0]',         \n",
      "                                                                  'activation_299[0][0]',         \n",
      "                                                                  'activation_300[0][0]']         \n",
      "                                                                                                  \n",
      " conv2d_304 (Conv2D)            (None, 7, 7, 64)     18432       ['mixed1[0][0]']                 \n",
      "                                                                                                  \n",
      " batch_normalization_316 (Batch  (None, 7, 7, 64)    192         ['conv2d_304[0][0]']             \n",
      " Normalization)                                                                                   \n",
      "                                                                                                  \n",
      " activation_304 (Activation)    (None, 7, 7, 64)     0           ['batch_normalization_316[0][0]']\n"
     ]
    },
    {
     "name": "stdout",
     "output_type": "stream",
     "text": [
      "                                                                                                  \n",
      " conv2d_302 (Conv2D)            (None, 7, 7, 48)     13824       ['mixed1[0][0]']                 \n",
      "                                                                                                  \n",
      " conv2d_305 (Conv2D)            (None, 7, 7, 96)     55296       ['activation_304[0][0]']         \n",
      "                                                                                                  \n",
      " batch_normalization_314 (Batch  (None, 7, 7, 48)    144         ['conv2d_302[0][0]']             \n",
      " Normalization)                                                                                   \n",
      "                                                                                                  \n",
      " batch_normalization_317 (Batch  (None, 7, 7, 96)    288         ['conv2d_305[0][0]']             \n",
      " Normalization)                                                                                   \n",
      "                                                                                                  \n",
      " activation_302 (Activation)    (None, 7, 7, 48)     0           ['batch_normalization_314[0][0]']\n",
      "                                                                                                  \n",
      " activation_305 (Activation)    (None, 7, 7, 96)     0           ['batch_normalization_317[0][0]']\n",
      "                                                                                                  \n",
      " average_pooling2d_48 (AverageP  (None, 7, 7, 288)   0           ['mixed1[0][0]']                 \n",
      " ooling2D)                                                                                        \n",
      "                                                                                                  \n",
      " conv2d_301 (Conv2D)            (None, 7, 7, 64)     18432       ['mixed1[0][0]']                 \n",
      "                                                                                                  \n",
      " conv2d_303 (Conv2D)            (None, 7, 7, 64)     76800       ['activation_302[0][0]']         \n",
      "                                                                                                  \n",
      " conv2d_306 (Conv2D)            (None, 7, 7, 96)     82944       ['activation_305[0][0]']         \n",
      "                                                                                                  \n",
      " conv2d_307 (Conv2D)            (None, 7, 7, 64)     18432       ['average_pooling2d_48[0][0]']   \n",
      "                                                                                                  \n",
      " batch_normalization_313 (Batch  (None, 7, 7, 64)    192         ['conv2d_301[0][0]']             \n",
      " Normalization)                                                                                   \n",
      "                                                                                                  \n",
      " batch_normalization_315 (Batch  (None, 7, 7, 64)    192         ['conv2d_303[0][0]']             \n",
      " Normalization)                                                                                   \n",
      "                                                                                                  \n",
      " batch_normalization_318 (Batch  (None, 7, 7, 96)    288         ['conv2d_306[0][0]']             \n",
      " Normalization)                                                                                   \n",
      "                                                                                                  \n",
      " batch_normalization_319 (Batch  (None, 7, 7, 64)    192         ['conv2d_307[0][0]']             \n",
      " Normalization)                                                                                   \n",
      "                                                                                                  \n",
      " activation_301 (Activation)    (None, 7, 7, 64)     0           ['batch_normalization_313[0][0]']\n",
      "                                                                                                  \n",
      " activation_303 (Activation)    (None, 7, 7, 64)     0           ['batch_normalization_315[0][0]']\n",
      "                                                                                                  \n",
      " activation_306 (Activation)    (None, 7, 7, 96)     0           ['batch_normalization_318[0][0]']\n",
      "                                                                                                  \n",
      " activation_307 (Activation)    (None, 7, 7, 64)     0           ['batch_normalization_319[0][0]']\n",
      "                                                                                                  \n",
      " mixed2 (Concatenate)           (None, 7, 7, 288)    0           ['activation_301[0][0]',         \n",
      "                                                                  'activation_303[0][0]',         \n",
      "                                                                  'activation_306[0][0]',         \n",
      "                                                                  'activation_307[0][0]']         \n",
      "                                                                                                  \n",
      " conv2d_309 (Conv2D)            (None, 7, 7, 64)     18432       ['mixed2[0][0]']                 \n",
      "                                                                                                  \n",
      " batch_normalization_321 (Batch  (None, 7, 7, 64)    192         ['conv2d_309[0][0]']             \n",
      " Normalization)                                                                                   \n",
      "                                                                                                  \n",
      " activation_309 (Activation)    (None, 7, 7, 64)     0           ['batch_normalization_321[0][0]']\n",
      "                                                                                                  \n",
      " conv2d_310 (Conv2D)            (None, 7, 7, 96)     55296       ['activation_309[0][0]']         \n",
      "                                                                                                  \n",
      " batch_normalization_322 (Batch  (None, 7, 7, 96)    288         ['conv2d_310[0][0]']             \n",
      " Normalization)                                                                                   \n",
      "                                                                                                  \n",
      " activation_310 (Activation)    (None, 7, 7, 96)     0           ['batch_normalization_322[0][0]']\n",
      "                                                                                                  \n",
      " conv2d_308 (Conv2D)            (None, 3, 3, 384)    995328      ['mixed2[0][0]']                 \n",
      "                                                                                                  \n",
      " conv2d_311 (Conv2D)            (None, 3, 3, 96)     82944       ['activation_310[0][0]']         \n",
      "                                                                                                  \n",
      " batch_normalization_320 (Batch  (None, 3, 3, 384)   1152        ['conv2d_308[0][0]']             \n",
      " Normalization)                                                                                   \n",
      "                                                                                                  \n",
      " batch_normalization_323 (Batch  (None, 3, 3, 96)    288         ['conv2d_311[0][0]']             \n",
      " Normalization)                                                                                   \n",
      "                                                                                                  \n",
      " activation_308 (Activation)    (None, 3, 3, 384)    0           ['batch_normalization_320[0][0]']\n",
      "                                                                                                  \n",
      " activation_311 (Activation)    (None, 3, 3, 96)     0           ['batch_normalization_323[0][0]']\n",
      "                                                                                                  \n",
      " max_pooling2d_14 (MaxPooling2D  (None, 3, 3, 288)   0           ['mixed2[0][0]']                 \n",
      " )                                                                                                \n",
      "                                                                                                  \n",
      " mixed3 (Concatenate)           (None, 3, 3, 768)    0           ['activation_308[0][0]',         \n"
     ]
    },
    {
     "name": "stdout",
     "output_type": "stream",
     "text": [
      "                                                                  'activation_311[0][0]',         \n",
      "                                                                  'max_pooling2d_14[0][0]']       \n",
      "                                                                                                  \n",
      " conv2d_316 (Conv2D)            (None, 3, 3, 128)    98304       ['mixed3[0][0]']                 \n",
      "                                                                                                  \n",
      " batch_normalization_328 (Batch  (None, 3, 3, 128)   384         ['conv2d_316[0][0]']             \n",
      " Normalization)                                                                                   \n",
      "                                                                                                  \n",
      " activation_316 (Activation)    (None, 3, 3, 128)    0           ['batch_normalization_328[0][0]']\n",
      "                                                                                                  \n",
      " conv2d_317 (Conv2D)            (None, 3, 3, 128)    114688      ['activation_316[0][0]']         \n",
      "                                                                                                  \n",
      " batch_normalization_329 (Batch  (None, 3, 3, 128)   384         ['conv2d_317[0][0]']             \n",
      " Normalization)                                                                                   \n",
      "                                                                                                  \n",
      " activation_317 (Activation)    (None, 3, 3, 128)    0           ['batch_normalization_329[0][0]']\n",
      "                                                                                                  \n",
      " conv2d_313 (Conv2D)            (None, 3, 3, 128)    98304       ['mixed3[0][0]']                 \n",
      "                                                                                                  \n",
      " conv2d_318 (Conv2D)            (None, 3, 3, 128)    114688      ['activation_317[0][0]']         \n",
      "                                                                                                  \n",
      " batch_normalization_325 (Batch  (None, 3, 3, 128)   384         ['conv2d_313[0][0]']             \n",
      " Normalization)                                                                                   \n",
      "                                                                                                  \n",
      " batch_normalization_330 (Batch  (None, 3, 3, 128)   384         ['conv2d_318[0][0]']             \n",
      " Normalization)                                                                                   \n",
      "                                                                                                  \n",
      " activation_313 (Activation)    (None, 3, 3, 128)    0           ['batch_normalization_325[0][0]']\n",
      "                                                                                                  \n",
      " activation_318 (Activation)    (None, 3, 3, 128)    0           ['batch_normalization_330[0][0]']\n",
      "                                                                                                  \n",
      " conv2d_314 (Conv2D)            (None, 3, 3, 128)    114688      ['activation_313[0][0]']         \n",
      "                                                                                                  \n",
      " conv2d_319 (Conv2D)            (None, 3, 3, 128)    114688      ['activation_318[0][0]']         \n",
      "                                                                                                  \n",
      " batch_normalization_326 (Batch  (None, 3, 3, 128)   384         ['conv2d_314[0][0]']             \n",
      " Normalization)                                                                                   \n",
      "                                                                                                  \n",
      " batch_normalization_331 (Batch  (None, 3, 3, 128)   384         ['conv2d_319[0][0]']             \n",
      " Normalization)                                                                                   \n",
      "                                                                                                  \n",
      " activation_314 (Activation)    (None, 3, 3, 128)    0           ['batch_normalization_326[0][0]']\n",
      "                                                                                                  \n",
      " activation_319 (Activation)    (None, 3, 3, 128)    0           ['batch_normalization_331[0][0]']\n",
      "                                                                                                  \n",
      " average_pooling2d_49 (AverageP  (None, 3, 3, 768)   0           ['mixed3[0][0]']                 \n",
      " ooling2D)                                                                                        \n",
      "                                                                                                  \n",
      " conv2d_312 (Conv2D)            (None, 3, 3, 192)    147456      ['mixed3[0][0]']                 \n",
      "                                                                                                  \n",
      " conv2d_315 (Conv2D)            (None, 3, 3, 192)    172032      ['activation_314[0][0]']         \n",
      "                                                                                                  \n",
      " conv2d_320 (Conv2D)            (None, 3, 3, 192)    172032      ['activation_319[0][0]']         \n",
      "                                                                                                  \n",
      " conv2d_321 (Conv2D)            (None, 3, 3, 192)    147456      ['average_pooling2d_49[0][0]']   \n",
      "                                                                                                  \n",
      " batch_normalization_324 (Batch  (None, 3, 3, 192)   576         ['conv2d_312[0][0]']             \n",
      " Normalization)                                                                                   \n",
      "                                                                                                  \n",
      " batch_normalization_327 (Batch  (None, 3, 3, 192)   576         ['conv2d_315[0][0]']             \n",
      " Normalization)                                                                                   \n",
      "                                                                                                  \n",
      " batch_normalization_332 (Batch  (None, 3, 3, 192)   576         ['conv2d_320[0][0]']             \n",
      " Normalization)                                                                                   \n",
      "                                                                                                  \n",
      " batch_normalization_333 (Batch  (None, 3, 3, 192)   576         ['conv2d_321[0][0]']             \n",
      " Normalization)                                                                                   \n",
      "                                                                                                  \n",
      " activation_312 (Activation)    (None, 3, 3, 192)    0           ['batch_normalization_324[0][0]']\n",
      "                                                                                                  \n",
      " activation_315 (Activation)    (None, 3, 3, 192)    0           ['batch_normalization_327[0][0]']\n",
      "                                                                                                  \n",
      " activation_320 (Activation)    (None, 3, 3, 192)    0           ['batch_normalization_332[0][0]']\n",
      "                                                                                                  \n",
      " activation_321 (Activation)    (None, 3, 3, 192)    0           ['batch_normalization_333[0][0]']\n",
      "                                                                                                  \n",
      " mixed4 (Concatenate)           (None, 3, 3, 768)    0           ['activation_312[0][0]',         \n",
      "                                                                  'activation_315[0][0]',         \n",
      "                                                                  'activation_320[0][0]',         \n",
      "                                                                  'activation_321[0][0]']         \n",
      "                                                                                                  \n",
      " conv2d_326 (Conv2D)            (None, 3, 3, 160)    122880      ['mixed4[0][0]']                 \n",
      "                                                                                                  \n"
     ]
    },
    {
     "name": "stdout",
     "output_type": "stream",
     "text": [
      " batch_normalization_338 (Batch  (None, 3, 3, 160)   480         ['conv2d_326[0][0]']             \n",
      " Normalization)                                                                                   \n",
      "                                                                                                  \n",
      " activation_326 (Activation)    (None, 3, 3, 160)    0           ['batch_normalization_338[0][0]']\n",
      "                                                                                                  \n",
      " conv2d_327 (Conv2D)            (None, 3, 3, 160)    179200      ['activation_326[0][0]']         \n",
      "                                                                                                  \n",
      " batch_normalization_339 (Batch  (None, 3, 3, 160)   480         ['conv2d_327[0][0]']             \n",
      " Normalization)                                                                                   \n",
      "                                                                                                  \n",
      " activation_327 (Activation)    (None, 3, 3, 160)    0           ['batch_normalization_339[0][0]']\n",
      "                                                                                                  \n",
      " conv2d_323 (Conv2D)            (None, 3, 3, 160)    122880      ['mixed4[0][0]']                 \n",
      "                                                                                                  \n",
      " conv2d_328 (Conv2D)            (None, 3, 3, 160)    179200      ['activation_327[0][0]']         \n",
      "                                                                                                  \n",
      " batch_normalization_335 (Batch  (None, 3, 3, 160)   480         ['conv2d_323[0][0]']             \n",
      " Normalization)                                                                                   \n",
      "                                                                                                  \n",
      " batch_normalization_340 (Batch  (None, 3, 3, 160)   480         ['conv2d_328[0][0]']             \n",
      " Normalization)                                                                                   \n",
      "                                                                                                  \n",
      " activation_323 (Activation)    (None, 3, 3, 160)    0           ['batch_normalization_335[0][0]']\n",
      "                                                                                                  \n",
      " activation_328 (Activation)    (None, 3, 3, 160)    0           ['batch_normalization_340[0][0]']\n",
      "                                                                                                  \n",
      " conv2d_324 (Conv2D)            (None, 3, 3, 160)    179200      ['activation_323[0][0]']         \n",
      "                                                                                                  \n",
      " conv2d_329 (Conv2D)            (None, 3, 3, 160)    179200      ['activation_328[0][0]']         \n",
      "                                                                                                  \n",
      " batch_normalization_336 (Batch  (None, 3, 3, 160)   480         ['conv2d_324[0][0]']             \n",
      " Normalization)                                                                                   \n",
      "                                                                                                  \n",
      " batch_normalization_341 (Batch  (None, 3, 3, 160)   480         ['conv2d_329[0][0]']             \n",
      " Normalization)                                                                                   \n",
      "                                                                                                  \n",
      " activation_324 (Activation)    (None, 3, 3, 160)    0           ['batch_normalization_336[0][0]']\n",
      "                                                                                                  \n",
      " activation_329 (Activation)    (None, 3, 3, 160)    0           ['batch_normalization_341[0][0]']\n",
      "                                                                                                  \n",
      " average_pooling2d_50 (AverageP  (None, 3, 3, 768)   0           ['mixed4[0][0]']                 \n",
      " ooling2D)                                                                                        \n",
      "                                                                                                  \n",
      " conv2d_322 (Conv2D)            (None, 3, 3, 192)    147456      ['mixed4[0][0]']                 \n",
      "                                                                                                  \n",
      " conv2d_325 (Conv2D)            (None, 3, 3, 192)    215040      ['activation_324[0][0]']         \n",
      "                                                                                                  \n",
      " conv2d_330 (Conv2D)            (None, 3, 3, 192)    215040      ['activation_329[0][0]']         \n",
      "                                                                                                  \n",
      " conv2d_331 (Conv2D)            (None, 3, 3, 192)    147456      ['average_pooling2d_50[0][0]']   \n",
      "                                                                                                  \n",
      " batch_normalization_334 (Batch  (None, 3, 3, 192)   576         ['conv2d_322[0][0]']             \n",
      " Normalization)                                                                                   \n",
      "                                                                                                  \n",
      " batch_normalization_337 (Batch  (None, 3, 3, 192)   576         ['conv2d_325[0][0]']             \n",
      " Normalization)                                                                                   \n",
      "                                                                                                  \n",
      " batch_normalization_342 (Batch  (None, 3, 3, 192)   576         ['conv2d_330[0][0]']             \n",
      " Normalization)                                                                                   \n",
      "                                                                                                  \n",
      " batch_normalization_343 (Batch  (None, 3, 3, 192)   576         ['conv2d_331[0][0]']             \n",
      " Normalization)                                                                                   \n",
      "                                                                                                  \n",
      " activation_322 (Activation)    (None, 3, 3, 192)    0           ['batch_normalization_334[0][0]']\n",
      "                                                                                                  \n",
      " activation_325 (Activation)    (None, 3, 3, 192)    0           ['batch_normalization_337[0][0]']\n",
      "                                                                                                  \n",
      " activation_330 (Activation)    (None, 3, 3, 192)    0           ['batch_normalization_342[0][0]']\n",
      "                                                                                                  \n",
      " activation_331 (Activation)    (None, 3, 3, 192)    0           ['batch_normalization_343[0][0]']\n",
      "                                                                                                  \n",
      " mixed5 (Concatenate)           (None, 3, 3, 768)    0           ['activation_322[0][0]',         \n",
      "                                                                  'activation_325[0][0]',         \n",
      "                                                                  'activation_330[0][0]',         \n",
      "                                                                  'activation_331[0][0]']         \n",
      "                                                                                                  \n",
      " conv2d_336 (Conv2D)            (None, 3, 3, 160)    122880      ['mixed5[0][0]']                 \n",
      "                                                                                                  \n",
      " batch_normalization_348 (Batch  (None, 3, 3, 160)   480         ['conv2d_336[0][0]']             \n",
      " Normalization)                                                                                   \n",
      "                                                                                                  \n",
      " activation_336 (Activation)    (None, 3, 3, 160)    0           ['batch_normalization_348[0][0]']\n",
      "                                                                                                  \n"
     ]
    },
    {
     "name": "stdout",
     "output_type": "stream",
     "text": [
      " conv2d_337 (Conv2D)            (None, 3, 3, 160)    179200      ['activation_336[0][0]']         \n",
      "                                                                                                  \n",
      " batch_normalization_349 (Batch  (None, 3, 3, 160)   480         ['conv2d_337[0][0]']             \n",
      " Normalization)                                                                                   \n",
      "                                                                                                  \n",
      " activation_337 (Activation)    (None, 3, 3, 160)    0           ['batch_normalization_349[0][0]']\n",
      "                                                                                                  \n",
      " conv2d_333 (Conv2D)            (None, 3, 3, 160)    122880      ['mixed5[0][0]']                 \n",
      "                                                                                                  \n",
      " conv2d_338 (Conv2D)            (None, 3, 3, 160)    179200      ['activation_337[0][0]']         \n",
      "                                                                                                  \n",
      " batch_normalization_345 (Batch  (None, 3, 3, 160)   480         ['conv2d_333[0][0]']             \n",
      " Normalization)                                                                                   \n",
      "                                                                                                  \n",
      " batch_normalization_350 (Batch  (None, 3, 3, 160)   480         ['conv2d_338[0][0]']             \n",
      " Normalization)                                                                                   \n",
      "                                                                                                  \n",
      " activation_333 (Activation)    (None, 3, 3, 160)    0           ['batch_normalization_345[0][0]']\n",
      "                                                                                                  \n",
      " activation_338 (Activation)    (None, 3, 3, 160)    0           ['batch_normalization_350[0][0]']\n",
      "                                                                                                  \n",
      " conv2d_334 (Conv2D)            (None, 3, 3, 160)    179200      ['activation_333[0][0]']         \n",
      "                                                                                                  \n",
      " conv2d_339 (Conv2D)            (None, 3, 3, 160)    179200      ['activation_338[0][0]']         \n",
      "                                                                                                  \n",
      " batch_normalization_346 (Batch  (None, 3, 3, 160)   480         ['conv2d_334[0][0]']             \n",
      " Normalization)                                                                                   \n",
      "                                                                                                  \n",
      " batch_normalization_351 (Batch  (None, 3, 3, 160)   480         ['conv2d_339[0][0]']             \n",
      " Normalization)                                                                                   \n",
      "                                                                                                  \n",
      " activation_334 (Activation)    (None, 3, 3, 160)    0           ['batch_normalization_346[0][0]']\n",
      "                                                                                                  \n",
      " activation_339 (Activation)    (None, 3, 3, 160)    0           ['batch_normalization_351[0][0]']\n",
      "                                                                                                  \n",
      " average_pooling2d_51 (AverageP  (None, 3, 3, 768)   0           ['mixed5[0][0]']                 \n",
      " ooling2D)                                                                                        \n",
      "                                                                                                  \n",
      " conv2d_332 (Conv2D)            (None, 3, 3, 192)    147456      ['mixed5[0][0]']                 \n",
      "                                                                                                  \n",
      " conv2d_335 (Conv2D)            (None, 3, 3, 192)    215040      ['activation_334[0][0]']         \n",
      "                                                                                                  \n",
      " conv2d_340 (Conv2D)            (None, 3, 3, 192)    215040      ['activation_339[0][0]']         \n",
      "                                                                                                  \n",
      " conv2d_341 (Conv2D)            (None, 3, 3, 192)    147456      ['average_pooling2d_51[0][0]']   \n",
      "                                                                                                  \n",
      " batch_normalization_344 (Batch  (None, 3, 3, 192)   576         ['conv2d_332[0][0]']             \n",
      " Normalization)                                                                                   \n",
      "                                                                                                  \n",
      " batch_normalization_347 (Batch  (None, 3, 3, 192)   576         ['conv2d_335[0][0]']             \n",
      " Normalization)                                                                                   \n",
      "                                                                                                  \n",
      " batch_normalization_352 (Batch  (None, 3, 3, 192)   576         ['conv2d_340[0][0]']             \n",
      " Normalization)                                                                                   \n",
      "                                                                                                  \n",
      " batch_normalization_353 (Batch  (None, 3, 3, 192)   576         ['conv2d_341[0][0]']             \n",
      " Normalization)                                                                                   \n",
      "                                                                                                  \n",
      " activation_332 (Activation)    (None, 3, 3, 192)    0           ['batch_normalization_344[0][0]']\n",
      "                                                                                                  \n",
      " activation_335 (Activation)    (None, 3, 3, 192)    0           ['batch_normalization_347[0][0]']\n",
      "                                                                                                  \n",
      " activation_340 (Activation)    (None, 3, 3, 192)    0           ['batch_normalization_352[0][0]']\n",
      "                                                                                                  \n",
      " activation_341 (Activation)    (None, 3, 3, 192)    0           ['batch_normalization_353[0][0]']\n",
      "                                                                                                  \n",
      " mixed6 (Concatenate)           (None, 3, 3, 768)    0           ['activation_332[0][0]',         \n",
      "                                                                  'activation_335[0][0]',         \n",
      "                                                                  'activation_340[0][0]',         \n",
      "                                                                  'activation_341[0][0]']         \n",
      "                                                                                                  \n",
      " conv2d_346 (Conv2D)            (None, 3, 3, 192)    147456      ['mixed6[0][0]']                 \n",
      "                                                                                                  \n",
      " batch_normalization_358 (Batch  (None, 3, 3, 192)   576         ['conv2d_346[0][0]']             \n",
      " Normalization)                                                                                   \n",
      "                                                                                                  \n",
      " activation_346 (Activation)    (None, 3, 3, 192)    0           ['batch_normalization_358[0][0]']\n",
      "                                                                                                  \n",
      " conv2d_347 (Conv2D)            (None, 3, 3, 192)    258048      ['activation_346[0][0]']         \n",
      "                                                                                                  \n",
      " batch_normalization_359 (Batch  (None, 3, 3, 192)   576         ['conv2d_347[0][0]']             \n",
      " Normalization)                                                                                   \n",
      "                                                                                                  \n"
     ]
    },
    {
     "name": "stdout",
     "output_type": "stream",
     "text": [
      " activation_347 (Activation)    (None, 3, 3, 192)    0           ['batch_normalization_359[0][0]']\n",
      "                                                                                                  \n",
      " conv2d_343 (Conv2D)            (None, 3, 3, 192)    147456      ['mixed6[0][0]']                 \n",
      "                                                                                                  \n",
      " conv2d_348 (Conv2D)            (None, 3, 3, 192)    258048      ['activation_347[0][0]']         \n",
      "                                                                                                  \n",
      " batch_normalization_355 (Batch  (None, 3, 3, 192)   576         ['conv2d_343[0][0]']             \n",
      " Normalization)                                                                                   \n",
      "                                                                                                  \n",
      " batch_normalization_360 (Batch  (None, 3, 3, 192)   576         ['conv2d_348[0][0]']             \n",
      " Normalization)                                                                                   \n",
      "                                                                                                  \n",
      " activation_343 (Activation)    (None, 3, 3, 192)    0           ['batch_normalization_355[0][0]']\n",
      "                                                                                                  \n",
      " activation_348 (Activation)    (None, 3, 3, 192)    0           ['batch_normalization_360[0][0]']\n",
      "                                                                                                  \n",
      " conv2d_344 (Conv2D)            (None, 3, 3, 192)    258048      ['activation_343[0][0]']         \n",
      "                                                                                                  \n",
      " conv2d_349 (Conv2D)            (None, 3, 3, 192)    258048      ['activation_348[0][0]']         \n",
      "                                                                                                  \n",
      " batch_normalization_356 (Batch  (None, 3, 3, 192)   576         ['conv2d_344[0][0]']             \n",
      " Normalization)                                                                                   \n",
      "                                                                                                  \n",
      " batch_normalization_361 (Batch  (None, 3, 3, 192)   576         ['conv2d_349[0][0]']             \n",
      " Normalization)                                                                                   \n",
      "                                                                                                  \n",
      " activation_344 (Activation)    (None, 3, 3, 192)    0           ['batch_normalization_356[0][0]']\n",
      "                                                                                                  \n",
      " activation_349 (Activation)    (None, 3, 3, 192)    0           ['batch_normalization_361[0][0]']\n",
      "                                                                                                  \n",
      " average_pooling2d_52 (AverageP  (None, 3, 3, 768)   0           ['mixed6[0][0]']                 \n",
      " ooling2D)                                                                                        \n",
      "                                                                                                  \n",
      " conv2d_342 (Conv2D)            (None, 3, 3, 192)    147456      ['mixed6[0][0]']                 \n",
      "                                                                                                  \n",
      " conv2d_345 (Conv2D)            (None, 3, 3, 192)    258048      ['activation_344[0][0]']         \n",
      "                                                                                                  \n",
      " conv2d_350 (Conv2D)            (None, 3, 3, 192)    258048      ['activation_349[0][0]']         \n",
      "                                                                                                  \n",
      " conv2d_351 (Conv2D)            (None, 3, 3, 192)    147456      ['average_pooling2d_52[0][0]']   \n",
      "                                                                                                  \n",
      " batch_normalization_354 (Batch  (None, 3, 3, 192)   576         ['conv2d_342[0][0]']             \n",
      " Normalization)                                                                                   \n",
      "                                                                                                  \n",
      " batch_normalization_357 (Batch  (None, 3, 3, 192)   576         ['conv2d_345[0][0]']             \n",
      " Normalization)                                                                                   \n",
      "                                                                                                  \n",
      " batch_normalization_362 (Batch  (None, 3, 3, 192)   576         ['conv2d_350[0][0]']             \n",
      " Normalization)                                                                                   \n",
      "                                                                                                  \n",
      " batch_normalization_363 (Batch  (None, 3, 3, 192)   576         ['conv2d_351[0][0]']             \n",
      " Normalization)                                                                                   \n",
      "                                                                                                  \n",
      " activation_342 (Activation)    (None, 3, 3, 192)    0           ['batch_normalization_354[0][0]']\n",
      "                                                                                                  \n",
      " activation_345 (Activation)    (None, 3, 3, 192)    0           ['batch_normalization_357[0][0]']\n",
      "                                                                                                  \n",
      " activation_350 (Activation)    (None, 3, 3, 192)    0           ['batch_normalization_362[0][0]']\n",
      "                                                                                                  \n",
      " activation_351 (Activation)    (None, 3, 3, 192)    0           ['batch_normalization_363[0][0]']\n",
      "                                                                                                  \n",
      " mixed7 (Concatenate)           (None, 3, 3, 768)    0           ['activation_342[0][0]',         \n",
      "                                                                  'activation_345[0][0]',         \n",
      "                                                                  'activation_350[0][0]',         \n",
      "                                                                  'activation_351[0][0]']         \n",
      "                                                                                                  \n",
      " conv2d_354 (Conv2D)            (None, 3, 3, 192)    147456      ['mixed7[0][0]']                 \n",
      "                                                                                                  \n",
      " batch_normalization_366 (Batch  (None, 3, 3, 192)   576         ['conv2d_354[0][0]']             \n",
      " Normalization)                                                                                   \n",
      "                                                                                                  \n",
      " activation_354 (Activation)    (None, 3, 3, 192)    0           ['batch_normalization_366[0][0]']\n",
      "                                                                                                  \n",
      " conv2d_355 (Conv2D)            (None, 3, 3, 192)    258048      ['activation_354[0][0]']         \n",
      "                                                                                                  \n",
      " batch_normalization_367 (Batch  (None, 3, 3, 192)   576         ['conv2d_355[0][0]']             \n",
      " Normalization)                                                                                   \n",
      "                                                                                                  \n",
      " activation_355 (Activation)    (None, 3, 3, 192)    0           ['batch_normalization_367[0][0]']\n",
      "                                                                                                  \n",
      " conv2d_352 (Conv2D)            (None, 3, 3, 192)    147456      ['mixed7[0][0]']                 \n",
      "                                                                                                  \n",
      " conv2d_356 (Conv2D)            (None, 3, 3, 192)    258048      ['activation_355[0][0]']         \n"
     ]
    },
    {
     "name": "stdout",
     "output_type": "stream",
     "text": [
      "                                                                                                  \n",
      " batch_normalization_364 (Batch  (None, 3, 3, 192)   576         ['conv2d_352[0][0]']             \n",
      " Normalization)                                                                                   \n",
      "                                                                                                  \n",
      " batch_normalization_368 (Batch  (None, 3, 3, 192)   576         ['conv2d_356[0][0]']             \n",
      " Normalization)                                                                                   \n",
      "                                                                                                  \n",
      " activation_352 (Activation)    (None, 3, 3, 192)    0           ['batch_normalization_364[0][0]']\n",
      "                                                                                                  \n",
      " activation_356 (Activation)    (None, 3, 3, 192)    0           ['batch_normalization_368[0][0]']\n",
      "                                                                                                  \n",
      " conv2d_353 (Conv2D)            (None, 1, 1, 320)    552960      ['activation_352[0][0]']         \n",
      "                                                                                                  \n",
      " conv2d_357 (Conv2D)            (None, 1, 1, 192)    331776      ['activation_356[0][0]']         \n",
      "                                                                                                  \n",
      " batch_normalization_365 (Batch  (None, 1, 1, 320)   960         ['conv2d_353[0][0]']             \n",
      " Normalization)                                                                                   \n",
      "                                                                                                  \n",
      " batch_normalization_369 (Batch  (None, 1, 1, 192)   576         ['conv2d_357[0][0]']             \n",
      " Normalization)                                                                                   \n",
      "                                                                                                  \n",
      " activation_353 (Activation)    (None, 1, 1, 320)    0           ['batch_normalization_365[0][0]']\n",
      "                                                                                                  \n",
      " activation_357 (Activation)    (None, 1, 1, 192)    0           ['batch_normalization_369[0][0]']\n",
      "                                                                                                  \n",
      " max_pooling2d_15 (MaxPooling2D  (None, 1, 1, 768)   0           ['mixed7[0][0]']                 \n",
      " )                                                                                                \n",
      "                                                                                                  \n",
      " mixed8 (Concatenate)           (None, 1, 1, 1280)   0           ['activation_353[0][0]',         \n",
      "                                                                  'activation_357[0][0]',         \n",
      "                                                                  'max_pooling2d_15[0][0]']       \n",
      "                                                                                                  \n",
      " conv2d_362 (Conv2D)            (None, 1, 1, 448)    573440      ['mixed8[0][0]']                 \n",
      "                                                                                                  \n",
      " batch_normalization_374 (Batch  (None, 1, 1, 448)   1344        ['conv2d_362[0][0]']             \n",
      " Normalization)                                                                                   \n",
      "                                                                                                  \n",
      " activation_362 (Activation)    (None, 1, 1, 448)    0           ['batch_normalization_374[0][0]']\n",
      "                                                                                                  \n",
      " conv2d_359 (Conv2D)            (None, 1, 1, 384)    491520      ['mixed8[0][0]']                 \n",
      "                                                                                                  \n",
      " conv2d_363 (Conv2D)            (None, 1, 1, 384)    1548288     ['activation_362[0][0]']         \n",
      "                                                                                                  \n",
      " batch_normalization_371 (Batch  (None, 1, 1, 384)   1152        ['conv2d_359[0][0]']             \n",
      " Normalization)                                                                                   \n",
      "                                                                                                  \n",
      " batch_normalization_375 (Batch  (None, 1, 1, 384)   1152        ['conv2d_363[0][0]']             \n",
      " Normalization)                                                                                   \n",
      "                                                                                                  \n",
      " activation_359 (Activation)    (None, 1, 1, 384)    0           ['batch_normalization_371[0][0]']\n",
      "                                                                                                  \n",
      " activation_363 (Activation)    (None, 1, 1, 384)    0           ['batch_normalization_375[0][0]']\n",
      "                                                                                                  \n",
      " conv2d_360 (Conv2D)            (None, 1, 1, 384)    442368      ['activation_359[0][0]']         \n",
      "                                                                                                  \n",
      " conv2d_361 (Conv2D)            (None, 1, 1, 384)    442368      ['activation_359[0][0]']         \n",
      "                                                                                                  \n",
      " conv2d_364 (Conv2D)            (None, 1, 1, 384)    442368      ['activation_363[0][0]']         \n",
      "                                                                                                  \n",
      " conv2d_365 (Conv2D)            (None, 1, 1, 384)    442368      ['activation_363[0][0]']         \n",
      "                                                                                                  \n",
      " average_pooling2d_53 (AverageP  (None, 1, 1, 1280)  0           ['mixed8[0][0]']                 \n",
      " ooling2D)                                                                                        \n",
      "                                                                                                  \n",
      " conv2d_358 (Conv2D)            (None, 1, 1, 320)    409600      ['mixed8[0][0]']                 \n",
      "                                                                                                  \n",
      " batch_normalization_372 (Batch  (None, 1, 1, 384)   1152        ['conv2d_360[0][0]']             \n",
      " Normalization)                                                                                   \n",
      "                                                                                                  \n",
      " batch_normalization_373 (Batch  (None, 1, 1, 384)   1152        ['conv2d_361[0][0]']             \n",
      " Normalization)                                                                                   \n",
      "                                                                                                  \n",
      " batch_normalization_376 (Batch  (None, 1, 1, 384)   1152        ['conv2d_364[0][0]']             \n",
      " Normalization)                                                                                   \n",
      "                                                                                                  \n",
      " batch_normalization_377 (Batch  (None, 1, 1, 384)   1152        ['conv2d_365[0][0]']             \n",
      " Normalization)                                                                                   \n",
      "                                                                                                  \n",
      " conv2d_366 (Conv2D)            (None, 1, 1, 192)    245760      ['average_pooling2d_53[0][0]']   \n",
      "                                                                                                  \n",
      " batch_normalization_370 (Batch  (None, 1, 1, 320)   960         ['conv2d_358[0][0]']             \n",
      " Normalization)                                                                                   \n",
      "                                                                                                  \n"
     ]
    },
    {
     "name": "stdout",
     "output_type": "stream",
     "text": [
      " activation_360 (Activation)    (None, 1, 1, 384)    0           ['batch_normalization_372[0][0]']\n",
      "                                                                                                  \n",
      " activation_361 (Activation)    (None, 1, 1, 384)    0           ['batch_normalization_373[0][0]']\n",
      "                                                                                                  \n",
      " activation_364 (Activation)    (None, 1, 1, 384)    0           ['batch_normalization_376[0][0]']\n",
      "                                                                                                  \n",
      " activation_365 (Activation)    (None, 1, 1, 384)    0           ['batch_normalization_377[0][0]']\n",
      "                                                                                                  \n",
      " batch_normalization_378 (Batch  (None, 1, 1, 192)   576         ['conv2d_366[0][0]']             \n",
      " Normalization)                                                                                   \n",
      "                                                                                                  \n",
      " activation_358 (Activation)    (None, 1, 1, 320)    0           ['batch_normalization_370[0][0]']\n",
      "                                                                                                  \n",
      " mixed9_0 (Concatenate)         (None, 1, 1, 768)    0           ['activation_360[0][0]',         \n",
      "                                                                  'activation_361[0][0]']         \n",
      "                                                                                                  \n",
      " concatenate_6 (Concatenate)    (None, 1, 1, 768)    0           ['activation_364[0][0]',         \n",
      "                                                                  'activation_365[0][0]']         \n",
      "                                                                                                  \n",
      " activation_366 (Activation)    (None, 1, 1, 192)    0           ['batch_normalization_378[0][0]']\n",
      "                                                                                                  \n",
      " mixed9 (Concatenate)           (None, 1, 1, 2048)   0           ['activation_358[0][0]',         \n",
      "                                                                  'mixed9_0[0][0]',               \n",
      "                                                                  'concatenate_6[0][0]',          \n",
      "                                                                  'activation_366[0][0]']         \n",
      "                                                                                                  \n",
      " conv2d_371 (Conv2D)            (None, 1, 1, 448)    917504      ['mixed9[0][0]']                 \n",
      "                                                                                                  \n",
      " batch_normalization_383 (Batch  (None, 1, 1, 448)   1344        ['conv2d_371[0][0]']             \n",
      " Normalization)                                                                                   \n",
      "                                                                                                  \n",
      " activation_371 (Activation)    (None, 1, 1, 448)    0           ['batch_normalization_383[0][0]']\n",
      "                                                                                                  \n",
      " conv2d_368 (Conv2D)            (None, 1, 1, 384)    786432      ['mixed9[0][0]']                 \n",
      "                                                                                                  \n",
      " conv2d_372 (Conv2D)            (None, 1, 1, 384)    1548288     ['activation_371[0][0]']         \n",
      "                                                                                                  \n",
      " batch_normalization_380 (Batch  (None, 1, 1, 384)   1152        ['conv2d_368[0][0]']             \n",
      " Normalization)                                                                                   \n",
      "                                                                                                  \n",
      " batch_normalization_384 (Batch  (None, 1, 1, 384)   1152        ['conv2d_372[0][0]']             \n",
      " Normalization)                                                                                   \n",
      "                                                                                                  \n",
      " activation_368 (Activation)    (None, 1, 1, 384)    0           ['batch_normalization_380[0][0]']\n",
      "                                                                                                  \n",
      " activation_372 (Activation)    (None, 1, 1, 384)    0           ['batch_normalization_384[0][0]']\n",
      "                                                                                                  \n",
      " conv2d_369 (Conv2D)            (None, 1, 1, 384)    442368      ['activation_368[0][0]']         \n",
      "                                                                                                  \n",
      " conv2d_370 (Conv2D)            (None, 1, 1, 384)    442368      ['activation_368[0][0]']         \n",
      "                                                                                                  \n",
      " conv2d_373 (Conv2D)            (None, 1, 1, 384)    442368      ['activation_372[0][0]']         \n",
      "                                                                                                  \n",
      " conv2d_374 (Conv2D)            (None, 1, 1, 384)    442368      ['activation_372[0][0]']         \n",
      "                                                                                                  \n",
      " average_pooling2d_54 (AverageP  (None, 1, 1, 2048)  0           ['mixed9[0][0]']                 \n",
      " ooling2D)                                                                                        \n",
      "                                                                                                  \n",
      " conv2d_367 (Conv2D)            (None, 1, 1, 320)    655360      ['mixed9[0][0]']                 \n",
      "                                                                                                  \n",
      " batch_normalization_381 (Batch  (None, 1, 1, 384)   1152        ['conv2d_369[0][0]']             \n",
      " Normalization)                                                                                   \n",
      "                                                                                                  \n",
      " batch_normalization_382 (Batch  (None, 1, 1, 384)   1152        ['conv2d_370[0][0]']             \n",
      " Normalization)                                                                                   \n",
      "                                                                                                  \n",
      " batch_normalization_385 (Batch  (None, 1, 1, 384)   1152        ['conv2d_373[0][0]']             \n",
      " Normalization)                                                                                   \n",
      "                                                                                                  \n",
      " batch_normalization_386 (Batch  (None, 1, 1, 384)   1152        ['conv2d_374[0][0]']             \n",
      " Normalization)                                                                                   \n",
      "                                                                                                  \n",
      " conv2d_375 (Conv2D)            (None, 1, 1, 192)    393216      ['average_pooling2d_54[0][0]']   \n",
      "                                                                                                  \n",
      " batch_normalization_379 (Batch  (None, 1, 1, 320)   960         ['conv2d_367[0][0]']             \n",
      " Normalization)                                                                                   \n",
      "                                                                                                  \n",
      " activation_369 (Activation)    (None, 1, 1, 384)    0           ['batch_normalization_381[0][0]']\n",
      "                                                                                                  \n",
      " activation_370 (Activation)    (None, 1, 1, 384)    0           ['batch_normalization_382[0][0]']\n",
      "                                                                                                  \n",
      " activation_373 (Activation)    (None, 1, 1, 384)    0           ['batch_normalization_385[0][0]']\n",
      "                                                                                                  \n"
     ]
    },
    {
     "name": "stdout",
     "output_type": "stream",
     "text": [
      " activation_374 (Activation)    (None, 1, 1, 384)    0           ['batch_normalization_386[0][0]']\n",
      "                                                                                                  \n",
      " batch_normalization_387 (Batch  (None, 1, 1, 192)   576         ['conv2d_375[0][0]']             \n",
      " Normalization)                                                                                   \n",
      "                                                                                                  \n",
      " activation_367 (Activation)    (None, 1, 1, 320)    0           ['batch_normalization_379[0][0]']\n",
      "                                                                                                  \n",
      " mixed9_1 (Concatenate)         (None, 1, 1, 768)    0           ['activation_369[0][0]',         \n",
      "                                                                  'activation_370[0][0]']         \n",
      "                                                                                                  \n",
      " concatenate_7 (Concatenate)    (None, 1, 1, 768)    0           ['activation_373[0][0]',         \n",
      "                                                                  'activation_374[0][0]']         \n",
      "                                                                                                  \n",
      " activation_375 (Activation)    (None, 1, 1, 192)    0           ['batch_normalization_387[0][0]']\n",
      "                                                                                                  \n",
      " mixed10 (Concatenate)          (None, 1, 1, 2048)   0           ['activation_367[0][0]',         \n",
      "                                                                  'mixed9_1[0][0]',               \n",
      "                                                                  'concatenate_7[0][0]',          \n",
      "                                                                  'activation_375[0][0]']         \n",
      "                                                                                                  \n",
      " flatten_16 (Flatten)           (None, 2048)         0           ['mixed10[0][0]']                \n",
      "                                                                                                  \n",
      " dense_60 (Dense)               (None, 64)           131136      ['flatten_16[0][0]']             \n",
      "                                                                                                  \n",
      " dropout_57 (Dropout)           (None, 64)           0           ['dense_60[0][0]']               \n",
      "                                                                                                  \n",
      " dense_61 (Dense)               (None, 64)           4160        ['dropout_57[0][0]']             \n",
      "                                                                                                  \n",
      " dropout_58 (Dropout)           (None, 64)           0           ['dense_61[0][0]']               \n",
      "                                                                                                  \n",
      " dense_62 (Dense)               (None, 64)           4160        ['dropout_58[0][0]']             \n",
      "                                                                                                  \n",
      " dropout_59 (Dropout)           (None, 64)           0           ['dense_62[0][0]']               \n",
      "                                                                                                  \n",
      " dense_63 (Dense)               (None, 64)           4160        ['dropout_59[0][0]']             \n",
      "                                                                                                  \n",
      " dropout_60 (Dropout)           (None, 64)           0           ['dense_63[0][0]']               \n",
      "                                                                                                  \n",
      " dense_64 (Dense)               (None, 64)           4160        ['dropout_60[0][0]']             \n",
      "                                                                                                  \n",
      " dropout_61 (Dropout)           (None, 64)           0           ['dense_64[0][0]']               \n",
      "                                                                                                  \n",
      " dense_65 (Dense)               (None, 2)            130         ['dropout_61[0][0]']             \n",
      "                                                                                                  \n",
      "==================================================================================================\n",
      "Total params: 21,950,690\n",
      "Trainable params: 147,906\n",
      "Non-trainable params: 21,802,784\n",
      "__________________________________________________________________________________________________\n"
     ]
    }
   ],
   "source": [
    "model.summary()"
   ]
  },
  {
   "cell_type": "markdown",
   "id": "a8be1504",
   "metadata": {},
   "source": [
    "# Train the model"
   ]
  },
  {
   "cell_type": "code",
   "execution_count": 70,
   "id": "849528fe",
   "metadata": {},
   "outputs": [],
   "source": [
    "# patience = max num of epochs when accuracy is not increasing\n",
    "earlystop = EarlyStopping(monitor='val_loss', patience=7, verbose=3, restore_best_weights=True)\n",
    "\n",
    "learning_rate = ReduceLROnPlateau(monitor='val_loss', patience=3, verbose=3)\n",
    "\n",
    "callbacks = [checkpoint, earlystop, learning_rate]"
   ]
  },
  {
   "cell_type": "code",
   "execution_count": null,
   "id": "2a1bf867",
   "metadata": {},
   "outputs": [],
   "source": [
    "# Resnet152V2\n",
    "\n",
    "# try:\n",
    "#     model.compile(optimizer='', loss='categorical_crossentropy', metrics=['accuracy'])\n",
    "\n",
    "#     model.fit(train_data,\n",
    "#           steps_per_epoch=train_data.samples//batchsize,\n",
    "#           validation_data=validation_data,\n",
    "#           validation_steps=validation_data.samples//batchsize,\n",
    "#           callbacks=callbacks,\n",
    "#           epochs=50)\n",
    "    \n",
    "#     model.save('')\n",
    "# except Exception as e:\n",
    "#     print(e)"
   ]
  },
  {
   "cell_type": "code",
   "execution_count": 71,
   "id": "74c3008a",
   "metadata": {
    "scrolled": true
   },
   "outputs": [
    {
     "name": "stdout",
     "output_type": "stream",
     "text": [
      "Epoch 1/50\n",
      "8089/8089 [==============================] - ETA: 0s - loss: 0.3256 - accuracy: 0.8822\n",
      "Epoch 1: val_loss improved from inf to 0.49945, saving model to models\\InceptionV3\n"
     ]
    },
    {
     "name": "stderr",
     "output_type": "stream",
     "text": [
      "WARNING:absl:Found untraced functions such as _jit_compiled_convolution_op, _jit_compiled_convolution_op, _jit_compiled_convolution_op, _jit_compiled_convolution_op, _jit_compiled_convolution_op while saving (showing 5 of 94). These functions will not be directly callable after loading.\n"
     ]
    },
    {
     "name": "stdout",
     "output_type": "stream",
     "text": [
      "INFO:tensorflow:Assets written to: models\\InceptionV3\\assets\n"
     ]
    },
    {
     "name": "stderr",
     "output_type": "stream",
     "text": [
      "INFO:tensorflow:Assets written to: models\\InceptionV3\\assets\n"
     ]
    },
    {
     "name": "stdout",
     "output_type": "stream",
     "text": [
      "8089/8089 [==============================] - 443s 54ms/step - loss: 0.3256 - accuracy: 0.8822 - val_loss: 0.4995 - val_accuracy: 0.8157 - lr: 0.0010\n",
      "Epoch 2/50\n",
      "8088/8089 [============================>.] - ETA: 0s - loss: 0.2848 - accuracy: 0.9072\n",
      "Epoch 2: val_loss did not improve from 0.49945\n",
      "8089/8089 [==============================] - 498s 62ms/step - loss: 0.2848 - accuracy: 0.9072 - val_loss: 0.5343 - val_accuracy: 0.8030 - lr: 0.0010\n",
      "Epoch 3/50\n",
      "8088/8089 [============================>.] - ETA: 0s - loss: 0.2743 - accuracy: 0.9097\n",
      "Epoch 3: val_loss improved from 0.49945 to 0.36467, saving model to models\\InceptionV3\n"
     ]
    },
    {
     "name": "stderr",
     "output_type": "stream",
     "text": [
      "WARNING:absl:Found untraced functions such as _jit_compiled_convolution_op, _jit_compiled_convolution_op, _jit_compiled_convolution_op, _jit_compiled_convolution_op, _jit_compiled_convolution_op while saving (showing 5 of 94). These functions will not be directly callable after loading.\n"
     ]
    },
    {
     "name": "stdout",
     "output_type": "stream",
     "text": [
      "INFO:tensorflow:Assets written to: models\\InceptionV3\\assets\n"
     ]
    },
    {
     "name": "stderr",
     "output_type": "stream",
     "text": [
      "INFO:tensorflow:Assets written to: models\\InceptionV3\\assets\n"
     ]
    },
    {
     "name": "stdout",
     "output_type": "stream",
     "text": [
      "8089/8089 [==============================] - 558s 69ms/step - loss: 0.2742 - accuracy: 0.9097 - val_loss: 0.3647 - val_accuracy: 0.9088 - lr: 0.0010\n",
      "Epoch 4/50\n",
      "8089/8089 [==============================] - ETA: 0s - loss: 0.2608 - accuracy: 0.9143\n",
      "Epoch 4: val_loss did not improve from 0.36467\n",
      "8089/8089 [==============================] - 548s 68ms/step - loss: 0.2608 - accuracy: 0.9143 - val_loss: 0.5377 - val_accuracy: 0.7958 - lr: 0.0010\n",
      "Epoch 5/50\n",
      "8089/8089 [==============================] - ETA: 0s - loss: 0.2678 - accuracy: 0.9158\n",
      "Epoch 5: val_loss did not improve from 0.36467\n",
      "8089/8089 [==============================] - 528s 65ms/step - loss: 0.2678 - accuracy: 0.9158 - val_loss: 0.3678 - val_accuracy: 0.9012 - lr: 0.0010\n",
      "Epoch 6/50\n",
      "8089/8089 [==============================] - ETA: 0s - loss: 0.2666 - accuracy: 0.9176\n",
      "Epoch 6: val_loss improved from 0.36467 to 0.34750, saving model to models\\InceptionV3\n"
     ]
    },
    {
     "name": "stderr",
     "output_type": "stream",
     "text": [
      "WARNING:absl:Found untraced functions such as _jit_compiled_convolution_op, _jit_compiled_convolution_op, _jit_compiled_convolution_op, _jit_compiled_convolution_op, _jit_compiled_convolution_op while saving (showing 5 of 94). These functions will not be directly callable after loading.\n"
     ]
    },
    {
     "name": "stdout",
     "output_type": "stream",
     "text": [
      "INFO:tensorflow:Assets written to: models\\InceptionV3\\assets\n"
     ]
    },
    {
     "name": "stderr",
     "output_type": "stream",
     "text": [
      "INFO:tensorflow:Assets written to: models\\InceptionV3\\assets\n"
     ]
    },
    {
     "name": "stdout",
     "output_type": "stream",
     "text": [
      "8089/8089 [==============================] - 534s 66ms/step - loss: 0.2666 - accuracy: 0.9176 - val_loss: 0.3475 - val_accuracy: 0.9122 - lr: 0.0010\n",
      "Epoch 7/50\n",
      "8088/8089 [============================>.] - ETA: 0s - loss: 0.2674 - accuracy: 0.9174\n",
      "Epoch 7: val_loss did not improve from 0.34750\n",
      "8089/8089 [==============================] - 540s 67ms/step - loss: 0.2674 - accuracy: 0.9174 - val_loss: 0.3535 - val_accuracy: 0.8911 - lr: 0.0010\n",
      "Epoch 8/50\n",
      "8089/8089 [==============================] - ETA: 0s - loss: 0.2741 - accuracy: 0.9166\n",
      "Epoch 8: val_loss improved from 0.34750 to 0.34035, saving model to models\\InceptionV3\n"
     ]
    },
    {
     "name": "stderr",
     "output_type": "stream",
     "text": [
      "WARNING:absl:Found untraced functions such as _jit_compiled_convolution_op, _jit_compiled_convolution_op, _jit_compiled_convolution_op, _jit_compiled_convolution_op, _jit_compiled_convolution_op while saving (showing 5 of 94). These functions will not be directly callable after loading.\n"
     ]
    },
    {
     "name": "stdout",
     "output_type": "stream",
     "text": [
      "INFO:tensorflow:Assets written to: models\\InceptionV3\\assets\n"
     ]
    },
    {
     "name": "stderr",
     "output_type": "stream",
     "text": [
      "INFO:tensorflow:Assets written to: models\\InceptionV3\\assets\n"
     ]
    },
    {
     "name": "stdout",
     "output_type": "stream",
     "text": [
      "8089/8089 [==============================] - 566s 70ms/step - loss: 0.2741 - accuracy: 0.9166 - val_loss: 0.3403 - val_accuracy: 0.9091 - lr: 0.0010\n",
      "Epoch 9/50\n",
      "8089/8089 [==============================] - ETA: 0s - loss: 0.3088 - accuracy: 0.9175\n",
      "Epoch 9: val_loss did not improve from 0.34035\n",
      "8089/8089 [==============================] - 552s 68ms/step - loss: 0.3088 - accuracy: 0.9175 - val_loss: 0.3802 - val_accuracy: 0.9092 - lr: 0.0010\n",
      "Epoch 10/50\n",
      "8089/8089 [==============================] - ETA: 0s - loss: 0.2708 - accuracy: 0.9190\n",
      "Epoch 10: val_loss improved from 0.34035 to 0.32653, saving model to models\\InceptionV3\n"
     ]
    },
    {
     "name": "stderr",
     "output_type": "stream",
     "text": [
      "WARNING:absl:Found untraced functions such as _jit_compiled_convolution_op, _jit_compiled_convolution_op, _jit_compiled_convolution_op, _jit_compiled_convolution_op, _jit_compiled_convolution_op while saving (showing 5 of 94). These functions will not be directly callable after loading.\n"
     ]
    },
    {
     "name": "stdout",
     "output_type": "stream",
     "text": [
      "INFO:tensorflow:Assets written to: models\\InceptionV3\\assets\n"
     ]
    },
    {
     "name": "stderr",
     "output_type": "stream",
     "text": [
      "INFO:tensorflow:Assets written to: models\\InceptionV3\\assets\n"
     ]
    },
    {
     "name": "stdout",
     "output_type": "stream",
     "text": [
      "8089/8089 [==============================] - 620s 77ms/step - loss: 0.2708 - accuracy: 0.9190 - val_loss: 0.3265 - val_accuracy: 0.9224 - lr: 0.0010\n",
      "Epoch 11/50\n",
      "8089/8089 [==============================] - ETA: 0s - loss: 0.2847 - accuracy: 0.9186\n",
      "Epoch 11: val_loss did not improve from 0.32653\n",
      "8089/8089 [==============================] - 567s 70ms/step - loss: 0.2847 - accuracy: 0.9186 - val_loss: 0.3582 - val_accuracy: 0.9115 - lr: 0.0010\n",
      "Epoch 12/50\n",
      "8089/8089 [==============================] - ETA: 0s - loss: 0.2856 - accuracy: 0.9180\n",
      "Epoch 12: val_loss improved from 0.32653 to 0.31869, saving model to models\\InceptionV3\n"
     ]
    },
    {
     "name": "stderr",
     "output_type": "stream",
     "text": [
      "WARNING:absl:Found untraced functions such as _jit_compiled_convolution_op, _jit_compiled_convolution_op, _jit_compiled_convolution_op, _jit_compiled_convolution_op, _jit_compiled_convolution_op while saving (showing 5 of 94). These functions will not be directly callable after loading.\n"
     ]
    },
    {
     "name": "stdout",
     "output_type": "stream",
     "text": [
      "INFO:tensorflow:Assets written to: models\\InceptionV3\\assets\n"
     ]
    },
    {
     "name": "stderr",
     "output_type": "stream",
     "text": [
      "INFO:tensorflow:Assets written to: models\\InceptionV3\\assets\n"
     ]
    },
    {
     "name": "stdout",
     "output_type": "stream",
     "text": [
      "8089/8089 [==============================] - 584s 72ms/step - loss: 0.2856 - accuracy: 0.9180 - val_loss: 0.3187 - val_accuracy: 0.9161 - lr: 0.0010\n",
      "Epoch 13/50\n",
      "8089/8089 [==============================] - ETA: 0s - loss: 0.2835 - accuracy: 0.9194\n",
      "Epoch 13: val_loss did not improve from 0.31869\n",
      "8089/8089 [==============================] - 540s 67ms/step - loss: 0.2835 - accuracy: 0.9194 - val_loss: 0.3357 - val_accuracy: 0.9196 - lr: 0.0010\n",
      "Epoch 14/50\n",
      "8089/8089 [==============================] - ETA: 0s - loss: 0.2935 - accuracy: 0.9199\n",
      "Epoch 14: val_loss did not improve from 0.31869\n",
      "8089/8089 [==============================] - 554s 68ms/step - loss: 0.2935 - accuracy: 0.9199 - val_loss: 0.3327 - val_accuracy: 0.9146 - lr: 0.0010\n",
      "Epoch 15/50\n",
      "8089/8089 [==============================] - ETA: 0s - loss: 0.2998 - accuracy: 0.9186\n",
      "Epoch 15: val_loss did not improve from 0.31869\n",
      "\n",
      "Epoch 15: ReduceLROnPlateau reducing learning rate to 0.00010000000474974513.\n",
      "8089/8089 [==============================] - 550s 68ms/step - loss: 0.2998 - accuracy: 0.9186 - val_loss: 0.3301 - val_accuracy: 0.9155 - lr: 0.0010\n",
      "Epoch 16/50\n",
      "8089/8089 [==============================] - ETA: 0s - loss: 0.2598 - accuracy: 0.9214\n",
      "Epoch 16: val_loss improved from 0.31869 to 0.31646, saving model to models\\InceptionV3\n"
     ]
    },
    {
     "name": "stderr",
     "output_type": "stream",
     "text": [
      "WARNING:absl:Found untraced functions such as _jit_compiled_convolution_op, _jit_compiled_convolution_op, _jit_compiled_convolution_op, _jit_compiled_convolution_op, _jit_compiled_convolution_op while saving (showing 5 of 94). These functions will not be directly callable after loading.\n"
     ]
    },
    {
     "name": "stdout",
     "output_type": "stream",
     "text": [
      "INFO:tensorflow:Assets written to: models\\InceptionV3\\assets\n"
     ]
    },
    {
     "name": "stderr",
     "output_type": "stream",
     "text": [
      "INFO:tensorflow:Assets written to: models\\InceptionV3\\assets\n"
     ]
    },
    {
     "name": "stdout",
     "output_type": "stream",
     "text": [
      "8089/8089 [==============================] - 578s 71ms/step - loss: 0.2598 - accuracy: 0.9214 - val_loss: 0.3165 - val_accuracy: 0.9196 - lr: 1.0000e-04\n",
      "Epoch 17/50\n",
      "8089/8089 [==============================] - ETA: 0s - loss: 0.2645 - accuracy: 0.9275\n",
      "Epoch 17: val_loss improved from 0.31646 to 0.31196, saving model to models\\InceptionV3\n"
     ]
    },
    {
     "name": "stderr",
     "output_type": "stream",
     "text": [
      "WARNING:absl:Found untraced functions such as _jit_compiled_convolution_op, _jit_compiled_convolution_op, _jit_compiled_convolution_op, _jit_compiled_convolution_op, _jit_compiled_convolution_op while saving (showing 5 of 94). These functions will not be directly callable after loading.\n"
     ]
    },
    {
     "name": "stdout",
     "output_type": "stream",
     "text": [
      "INFO:tensorflow:Assets written to: models\\InceptionV3\\assets\n"
     ]
    },
    {
     "name": "stderr",
     "output_type": "stream",
     "text": [
      "INFO:tensorflow:Assets written to: models\\InceptionV3\\assets\n"
     ]
    },
    {
     "name": "stdout",
     "output_type": "stream",
     "text": [
      "8089/8089 [==============================] - 629s 78ms/step - loss: 0.2645 - accuracy: 0.9275 - val_loss: 0.3120 - val_accuracy: 0.9162 - lr: 1.0000e-04\n",
      "Epoch 18/50\n",
      "8089/8089 [==============================] - ETA: 0s - loss: 0.2662 - accuracy: 0.9274\n",
      "Epoch 18: val_loss did not improve from 0.31196\n",
      "8089/8089 [==============================] - 559s 69ms/step - loss: 0.2662 - accuracy: 0.9274 - val_loss: 0.3212 - val_accuracy: 0.9104 - lr: 1.0000e-04\n",
      "Epoch 19/50\n",
      "8089/8089 [==============================] - ETA: 0s - loss: 0.2677 - accuracy: 0.9286\n",
      "Epoch 19: val_loss did not improve from 0.31196\n",
      "8089/8089 [==============================] - 565s 70ms/step - loss: 0.2677 - accuracy: 0.9286 - val_loss: 0.3142 - val_accuracy: 0.9065 - lr: 1.0000e-04\n",
      "Epoch 20/50\n",
      "8089/8089 [==============================] - ETA: 0s - loss: 0.2528 - accuracy: 0.9279\n",
      "Epoch 20: val_loss improved from 0.31196 to 0.29997, saving model to models\\InceptionV3\n"
     ]
    },
    {
     "name": "stderr",
     "output_type": "stream",
     "text": [
      "WARNING:absl:Found untraced functions such as _jit_compiled_convolution_op, _jit_compiled_convolution_op, _jit_compiled_convolution_op, _jit_compiled_convolution_op, _jit_compiled_convolution_op while saving (showing 5 of 94). These functions will not be directly callable after loading.\n"
     ]
    },
    {
     "name": "stdout",
     "output_type": "stream",
     "text": [
      "INFO:tensorflow:Assets written to: models\\InceptionV3\\assets\n"
     ]
    },
    {
     "name": "stderr",
     "output_type": "stream",
     "text": [
      "INFO:tensorflow:Assets written to: models\\InceptionV3\\assets\n"
     ]
    },
    {
     "name": "stdout",
     "output_type": "stream",
     "text": [
      "8089/8089 [==============================] - 605s 75ms/step - loss: 0.2528 - accuracy: 0.9279 - val_loss: 0.3000 - val_accuracy: 0.9165 - lr: 1.0000e-04\n",
      "Epoch 21/50\n",
      "8089/8089 [==============================] - ETA: 0s - loss: 0.2681 - accuracy: 0.9300\n",
      "Epoch 21: val_loss did not improve from 0.29997\n",
      "8089/8089 [==============================] - 576s 71ms/step - loss: 0.2681 - accuracy: 0.9300 - val_loss: 0.3210 - val_accuracy: 0.9094 - lr: 1.0000e-04\n",
      "Epoch 22/50\n",
      "8089/8089 [==============================] - ETA: 0s - loss: 0.2839 - accuracy: 0.9290\n",
      "Epoch 22: val_loss did not improve from 0.29997\n",
      "8089/8089 [==============================] - 558s 69ms/step - loss: 0.2839 - accuracy: 0.9290 - val_loss: 0.3109 - val_accuracy: 0.9167 - lr: 1.0000e-04\n",
      "Epoch 23/50\n",
      "8089/8089 [==============================] - ETA: 0s - loss: 0.3270 - accuracy: 0.9303\n",
      "Epoch 23: val_loss did not improve from 0.29997\n",
      "\n",
      "Epoch 23: ReduceLROnPlateau reducing learning rate to 1.0000000474974514e-05.\n",
      "8089/8089 [==============================] - 554s 69ms/step - loss: 0.3270 - accuracy: 0.9303 - val_loss: 0.3075 - val_accuracy: 0.9169 - lr: 1.0000e-04\n",
      "Epoch 24/50\n",
      "8089/8089 [==============================] - ETA: 0s - loss: 0.2644 - accuracy: 0.9299\n",
      "Epoch 24: val_loss did not improve from 0.29997\n",
      "8089/8089 [==============================] - 608s 75ms/step - loss: 0.2644 - accuracy: 0.9299 - val_loss: 0.3164 - val_accuracy: 0.9147 - lr: 1.0000e-05\n",
      "Epoch 25/50\n",
      "8089/8089 [==============================] - ETA: 0s - loss: 0.2345 - accuracy: 0.9313\n",
      "Epoch 25: val_loss did not improve from 0.29997\n",
      "8089/8089 [==============================] - 580s 72ms/step - loss: 0.2345 - accuracy: 0.9313 - val_loss: 0.3184 - val_accuracy: 0.9148 - lr: 1.0000e-05\n",
      "Epoch 26/50\n",
      "8089/8089 [==============================] - ETA: 0s - loss: 0.2429 - accuracy: 0.9310\n",
      "Epoch 26: val_loss did not improve from 0.29997\n",
      "\n",
      "Epoch 26: ReduceLROnPlateau reducing learning rate to 1.0000000656873453e-06.\n",
      "8089/8089 [==============================] - 597s 74ms/step - loss: 0.2429 - accuracy: 0.9310 - val_loss: 0.3215 - val_accuracy: 0.9141 - lr: 1.0000e-05\n",
      "Epoch 27/50\n",
      "8089/8089 [==============================] - ETA: 0s - loss: 0.2469 - accuracy: 0.9319\n",
      "Epoch 27: val_loss did not improve from 0.29997\n",
      "Restoring model weights from the end of the best epoch: 20.\n",
      "8089/8089 [==============================] - 570s 70ms/step - loss: 0.2469 - accuracy: 0.9319 - val_loss: 0.3209 - val_accuracy: 0.9167 - lr: 1.0000e-06\n",
      "Epoch 27: early stopping\n"
     ]
    }
   ],
   "source": [
    "# InceptionV3\n",
    "\n",
    "try:\n",
    "    model.compile(optimizer='Adam', loss='categorical_crossentropy', metrics=['accuracy'])\n",
    "\n",
    "    model.fit(train_data,\n",
    "          steps_per_epoch=train_data.samples//batchsize,\n",
    "          validation_data=validation_data,\n",
    "          validation_steps=validation_data.samples//batchsize,\n",
    "          callbacks=callbacks,\n",
    "          epochs=50)\n",
    "    \n",
    "    model.save('InceptionV3_Drowsiness.h5')\n",
    "except Exception as e:\n",
    "    print(e)"
   ]
  },
  {
   "cell_type": "code",
   "execution_count": 47,
   "id": "34a2094d",
   "metadata": {},
   "outputs": [
    {
     "name": "stdout",
     "output_type": "stream",
     "text": [
      "Epoch 1/50\n",
      "Graph execution error:\n",
      "\n",
      "Detected at node 'gradient_tape/model_10/dense_43/MatMul/MatMul' defined at (most recent call last):\n",
      "    File \"C:\\Users\\felix\\anaconda3\\lib\\runpy.py\", line 197, in _run_module_as_main\n",
      "      return _run_code(code, main_globals, None,\n",
      "    File \"C:\\Users\\felix\\anaconda3\\lib\\runpy.py\", line 87, in _run_code\n",
      "      exec(code, run_globals)\n",
      "    File \"C:\\Users\\felix\\anaconda3\\lib\\site-packages\\ipykernel_launcher.py\", line 17, in <module>\n",
      "      app.launch_new_instance()\n",
      "    File \"C:\\Users\\felix\\anaconda3\\lib\\site-packages\\traitlets\\config\\application.py\", line 846, in launch_instance\n",
      "      app.start()\n",
      "    File \"C:\\Users\\felix\\anaconda3\\lib\\site-packages\\ipykernel\\kernelapp.py\", line 712, in start\n",
      "      self.io_loop.start()\n",
      "    File \"C:\\Users\\felix\\anaconda3\\lib\\site-packages\\tornado\\platform\\asyncio.py\", line 199, in start\n",
      "      self.asyncio_loop.run_forever()\n",
      "    File \"C:\\Users\\felix\\anaconda3\\lib\\asyncio\\base_events.py\", line 601, in run_forever\n",
      "      self._run_once()\n",
      "    File \"C:\\Users\\felix\\anaconda3\\lib\\asyncio\\base_events.py\", line 1905, in _run_once\n",
      "      handle._run()\n",
      "    File \"C:\\Users\\felix\\anaconda3\\lib\\asyncio\\events.py\", line 80, in _run\n",
      "      self._context.run(self._callback, *self._args)\n",
      "    File \"C:\\Users\\felix\\anaconda3\\lib\\site-packages\\ipykernel\\kernelbase.py\", line 510, in dispatch_queue\n",
      "      await self.process_one()\n",
      "    File \"C:\\Users\\felix\\anaconda3\\lib\\site-packages\\ipykernel\\kernelbase.py\", line 499, in process_one\n",
      "      await dispatch(*args)\n",
      "    File \"C:\\Users\\felix\\anaconda3\\lib\\site-packages\\ipykernel\\kernelbase.py\", line 406, in dispatch_shell\n",
      "      await result\n",
      "    File \"C:\\Users\\felix\\anaconda3\\lib\\site-packages\\ipykernel\\kernelbase.py\", line 730, in execute_request\n",
      "      reply_content = await reply_content\n",
      "    File \"C:\\Users\\felix\\anaconda3\\lib\\site-packages\\ipykernel\\ipkernel.py\", line 390, in do_execute\n",
      "      res = shell.run_cell(code, store_history=store_history, silent=silent)\n",
      "    File \"C:\\Users\\felix\\anaconda3\\lib\\site-packages\\ipykernel\\zmqshell.py\", line 528, in run_cell\n",
      "      return super().run_cell(*args, **kwargs)\n",
      "    File \"C:\\Users\\felix\\anaconda3\\lib\\site-packages\\IPython\\core\\interactiveshell.py\", line 2914, in run_cell\n",
      "      result = self._run_cell(\n",
      "    File \"C:\\Users\\felix\\anaconda3\\lib\\site-packages\\IPython\\core\\interactiveshell.py\", line 2960, in _run_cell\n",
      "      return runner(coro)\n",
      "    File \"C:\\Users\\felix\\anaconda3\\lib\\site-packages\\IPython\\core\\async_helpers.py\", line 78, in _pseudo_sync_runner\n",
      "      coro.send(None)\n",
      "    File \"C:\\Users\\felix\\anaconda3\\lib\\site-packages\\IPython\\core\\interactiveshell.py\", line 3185, in run_cell_async\n",
      "      has_raised = await self.run_ast_nodes(code_ast.body, cell_name,\n",
      "    File \"C:\\Users\\felix\\anaconda3\\lib\\site-packages\\IPython\\core\\interactiveshell.py\", line 3377, in run_ast_nodes\n",
      "      if (await self.run_code(code, result,  async_=asy)):\n",
      "    File \"C:\\Users\\felix\\anaconda3\\lib\\site-packages\\IPython\\core\\interactiveshell.py\", line 3457, in run_code\n",
      "      exec(code_obj, self.user_global_ns, self.user_ns)\n",
      "    File \"C:\\Users\\felix\\AppData\\Local\\Temp\\ipykernel_11156\\2753239050.py\", line 6, in <module>\n",
      "      model.fit(train_data,\n",
      "    File \"C:\\Users\\felix\\anaconda3\\lib\\site-packages\\keras\\utils\\traceback_utils.py\", line 65, in error_handler\n",
      "      return fn(*args, **kwargs)\n",
      "    File \"C:\\Users\\felix\\anaconda3\\lib\\site-packages\\keras\\engine\\training.py\", line 1564, in fit\n",
      "      tmp_logs = self.train_function(iterator)\n",
      "    File \"C:\\Users\\felix\\anaconda3\\lib\\site-packages\\keras\\engine\\training.py\", line 1160, in train_function\n",
      "      return step_function(self, iterator)\n",
      "    File \"C:\\Users\\felix\\anaconda3\\lib\\site-packages\\keras\\engine\\training.py\", line 1146, in step_function\n",
      "      outputs = model.distribute_strategy.run(run_step, args=(data,))\n",
      "    File \"C:\\Users\\felix\\anaconda3\\lib\\site-packages\\keras\\engine\\training.py\", line 1135, in run_step\n",
      "      outputs = model.train_step(data)\n",
      "    File \"C:\\Users\\felix\\anaconda3\\lib\\site-packages\\keras\\engine\\training.py\", line 997, in train_step\n",
      "      self.optimizer.minimize(loss, self.trainable_variables, tape=tape)\n",
      "    File \"C:\\Users\\felix\\anaconda3\\lib\\site-packages\\keras\\optimizers\\optimizer_v2\\optimizer_v2.py\", line 576, in minimize\n",
      "      grads_and_vars = self._compute_gradients(\n",
      "    File \"C:\\Users\\felix\\anaconda3\\lib\\site-packages\\keras\\optimizers\\optimizer_v2\\optimizer_v2.py\", line 634, in _compute_gradients\n",
      "      grads_and_vars = self._get_gradients(\n",
      "    File \"C:\\Users\\felix\\anaconda3\\lib\\site-packages\\keras\\optimizers\\optimizer_v2\\optimizer_v2.py\", line 510, in _get_gradients\n",
      "      grads = tape.gradient(loss, var_list, grad_loss)\n",
      "Node: 'gradient_tape/model_10/dense_43/MatMul/MatMul'\n",
      "Matrix size-incompatible: In[0]: [8,2], In[1]: [8,1]\n",
      "\t [[{{node gradient_tape/model_10/dense_43/MatMul/MatMul}}]] [Op:__inference_train_function_39896]\n"
     ]
    }
   ],
   "source": [
    "# # CNN-LSTM\n",
    "\n",
    "# try:\n",
    "#     model.compile(optimizer='Adam', loss='categorical_crossentropy', metrics=['accuracy'])\n",
    "\n",
    "#     model.fit(train_data,\n",
    "#           steps_per_epoch=train_data.samples//batchsize,\n",
    "#           validation_data=validation_data,\n",
    "#           validation_steps=validation_data.samples//batchsize,\n",
    "#           callbacks=callbacks,\n",
    "#           epochs=50)\n",
    "    \n",
    "#     model.save('CNN_LSTM_Drowsiness.h5')\n",
    "# except Exception as e:\n",
    "#     print(e)"
   ]
  },
  {
   "cell_type": "markdown",
   "id": "66832128",
   "metadata": {},
   "source": [
    "# Model evaluation"
   ]
  },
  {
   "cell_type": "code",
   "execution_count": 72,
   "id": "a0a21255",
   "metadata": {
    "scrolled": true
   },
   "outputs": [
    {
     "name": "stdout",
     "output_type": "stream",
     "text": [
      "8090/8090 [==============================] - 412s 51ms/step - loss: 0.2751 - accuracy: 0.9390\n",
      "0.2751415967941284\n",
      "0.9389514923095703\n"
     ]
    }
   ],
   "source": [
    "acc_training, loss_training = model.evaluate(train_data)\n",
    "print(acc_training)\n",
    "print(loss_training)"
   ]
  },
  {
   "cell_type": "code",
   "execution_count": 73,
   "id": "38db5b42",
   "metadata": {},
   "outputs": [
    {
     "name": "stdout",
     "output_type": "stream",
     "text": [
      "2023/2023 [==============================] - 104s 51ms/step - loss: 0.3058 - accuracy: 0.9130\n",
      "0.30575045943260193\n",
      "0.9130353927612305\n"
     ]
    }
   ],
   "source": [
    "acc_val, loss_val = model.evaluate(validation_data)\n",
    "print(acc_val)\n",
    "print(loss_val)"
   ]
  },
  {
   "cell_type": "code",
   "execution_count": 74,
   "id": "177df415",
   "metadata": {},
   "outputs": [
    {
     "name": "stdout",
     "output_type": "stream",
     "text": [
      "500/500 [==============================] - 29s 55ms/step - loss: 0.5321 - accuracy: 0.8390\n",
      "0.5320631265640259\n",
      "0.8389999866485596\n"
     ]
    }
   ],
   "source": [
    "from tensorflow.keras.models import load_model\n",
    "model = load_model('models/InceptionV3//')\n",
    "acc_test, loss_test = model.evaluate(test_data)\n",
    "print(acc_test)\n",
    "print(loss_test)"
   ]
  },
  {
   "cell_type": "code",
   "execution_count": null,
   "id": "ff0fae3e",
   "metadata": {},
   "outputs": [],
   "source": []
  }
 ],
 "metadata": {
  "kernelspec": {
   "display_name": "Python 3 (ipykernel)",
   "language": "python",
   "name": "python3"
  },
  "language_info": {
   "codemirror_mode": {
    "name": "ipython",
    "version": 3
   },
   "file_extension": ".py",
   "mimetype": "text/x-python",
   "name": "python",
   "nbconvert_exporter": "python",
   "pygments_lexer": "ipython3",
   "version": "3.9.13"
  }
 },
 "nbformat": 4,
 "nbformat_minor": 5
}
